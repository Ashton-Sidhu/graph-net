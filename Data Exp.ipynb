{
 "cells": [
  {
   "cell_type": "code",
   "execution_count": 1,
   "metadata": {},
   "outputs": [],
   "source": [
    "import pandas as pd\n",
    "import numpy as np"
   ]
  },
  {
   "cell_type": "code",
   "execution_count": 2,
   "metadata": {},
   "outputs": [],
   "source": [
    "df = pd.read_json('/media/sidhu/Samsung 1TB/sysmon.json', lines=True, chunksize=100000)"
   ]
  },
  {
   "cell_type": "markdown",
   "metadata": {},
   "source": [
    "This is a hackish loop to convert my sysmon data that I exported from elastic.\n",
    "It removes elastic metafield data, adds some more structured data that was previous"
   ]
  },
  {
   "cell_type": "code",
   "execution_count": null,
   "metadata": {},
   "outputs": [
    {
     "name": "stdout",
     "output_type": "stream",
     "text": [
      "0\n",
      "10\n",
      "20\n"
     ]
    }
   ],
   "source": [
    "for ind, chunk in enumerate(df):\n",
    "    chunk.drop(['_index', '_type', '_id', '_score'], axis=1, inplace=True)\n",
    "    json_df = pd.io.json.json_normalize(chunk['_source'].tolist())\n",
    "    \n",
    "    # Add message column information to the rest of the data\n",
    "    dict_data = []\n",
    "    for items in json_df['message'].tolist():\n",
    "        temp_dict = {}\n",
    "        for item in str(items).split('\\n'):\n",
    "            split = item.split(':')\n",
    "            \n",
    "            # Since the image contains the full path of the process\n",
    "            # It gets split on \":\" so we add a condition to handle it\n",
    "            # Ignore the message \"Network Connection Detected\"\n",
    "            if len(split) >= 2:\n",
    "                if split[0] == 'Image' and len(split) > 2:\n",
    "                    temp_dict[split[0]] = split[1] + ':' + split[2]\n",
    "                elif split[0].endswith('detected'):\n",
    "                    pass\n",
    "                else:\n",
    "                    temp_dict[split[0]] = split[1].strip()\n",
    "        dict_data.append(temp_dict)\n",
    "\n",
    "    message_data = pd.io.json.json_normalize(dict_data)\n",
    "    full_data = pd.concat([json_df, message_data], axis=1).drop('message', axis=1)\n",
    "    json_df.to_csv(f'/home/sidhu/data_files/sysmon-{ind}.csv')\n",
    "\n",
    "    if ind % 10 == 0:\n",
    "        print(ind)"
   ]
  },
  {
   "cell_type": "code",
   "execution_count": null,
   "metadata": {},
   "outputs": [],
   "source": []
  }
 ],
 "metadata": {
  "kernelspec": {
   "display_name": "Python 3",
   "language": "python",
   "name": "python3"
  },
  "language_info": {
   "codemirror_mode": {
    "name": "ipython",
    "version": 3
   },
   "file_extension": ".py",
   "mimetype": "text/x-python",
   "name": "python",
   "nbconvert_exporter": "python",
   "pygments_lexer": "ipython3",
   "version": "3.7.5"
  }
 },
 "nbformat": 4,
 "nbformat_minor": 4
}
