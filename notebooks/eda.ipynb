{
 "cells": [
  {
   "cell_type": "code",
   "execution_count": 1,
   "metadata": {},
   "outputs": [],
   "source": [
    "import pandas as pd\n",
    "import igviz as ig\n",
    "import networkx as nx"
   ]
  },
  {
   "cell_type": "code",
   "execution_count": 2,
   "metadata": {},
   "outputs": [],
   "source": [
    "df = pd.read_csv('/mnt/d/blue_red.csv')"
   ]
  },
  {
   "cell_type": "code",
   "execution_count": 11,
   "metadata": {},
   "outputs": [],
   "source": [
    "df = df[(~df['parent_process'].isnull()) & (~df['process'].isnull())]"
   ]
  },
  {
   "cell_type": "code",
   "execution_count": 12,
   "metadata": {},
   "outputs": [],
   "source": [
    "G = nx.from_pandas_edgelist(df,source='parent_process',\n",
    "                                   target='process',edge_attr=True,\n",
    "                                   create_using=nx.DiGraph())"
   ]
  },
  {
   "cell_type": "code",
   "execution_count": 13,
   "metadata": {},
   "outputs": [
    {
     "data": {
      "text/plain": [
       "82"
      ]
     },
     "execution_count": 13,
     "metadata": {},
     "output_type": "execute_result"
    }
   ],
   "source": [
    "len(G.nodes())"
   ]
  },
  {
   "cell_type": "code",
   "execution_count": 14,
   "metadata": {},
   "outputs": [
    {
     "data": {
      "text/html": [
       "<div>\n",
       "<style scoped>\n",
       "    .dataframe tbody tr th:only-of-type {\n",
       "        vertical-align: middle;\n",
       "    }\n",
       "\n",
       "    .dataframe tbody tr th {\n",
       "        vertical-align: top;\n",
       "    }\n",
       "\n",
       "    .dataframe thead th {\n",
       "        text-align: right;\n",
       "    }\n",
       "</style>\n",
       "<table border=\"1\" class=\"dataframe\">\n",
       "  <thead>\n",
       "    <tr style=\"text-align: right;\">\n",
       "      <th></th>\n",
       "      <th>Unnamed: 0</th>\n",
       "      <th>process</th>\n",
       "      <th>process_name</th>\n",
       "      <th>parent_process</th>\n",
       "      <th>parent_process_name</th>\n",
       "      <th>parent_cmd_line</th>\n",
       "      <th>cmd_line</th>\n",
       "      <th>user</th>\n",
       "    </tr>\n",
       "  </thead>\n",
       "  <tbody>\n",
       "    <tr>\n",
       "      <td>1312</td>\n",
       "      <td>2721</td>\n",
       "      <td>C:\\Program Files (x86)\\Plex\\Plex Media Server\\...</td>\n",
       "      <td>Plex Transcoder.exe</td>\n",
       "      <td>Plex Media Server.exe</td>\n",
       "      <td>NaN</td>\n",
       "      <td>NaN</td>\n",
       "      <td>NaN</td>\n",
       "      <td>NaN</td>\n",
       "    </tr>\n",
       "    <tr>\n",
       "      <td>1313</td>\n",
       "      <td>2722</td>\n",
       "      <td>C:\\Windows\\System32\\conhost.exe</td>\n",
       "      <td>conhost.exe</td>\n",
       "      <td>Plex Transcoder.exe</td>\n",
       "      <td>NaN</td>\n",
       "      <td>NaN</td>\n",
       "      <td>NaN</td>\n",
       "      <td>NaN</td>\n",
       "    </tr>\n",
       "    <tr>\n",
       "      <td>1314</td>\n",
       "      <td>2723</td>\n",
       "      <td>C:\\Program Files (x86)\\Plex\\Plex Media Server\\...</td>\n",
       "      <td>Plex Transcoder.exe</td>\n",
       "      <td>Plex Media Server.exe</td>\n",
       "      <td>NaN</td>\n",
       "      <td>NaN</td>\n",
       "      <td>NaN</td>\n",
       "      <td>NaN</td>\n",
       "    </tr>\n",
       "    <tr>\n",
       "      <td>1315</td>\n",
       "      <td>2724</td>\n",
       "      <td>C:\\Program Files (x86)\\Plex\\Plex Media Server\\...</td>\n",
       "      <td>Plex Transcoder.exe</td>\n",
       "      <td>Plex Media Server.exe</td>\n",
       "      <td>NaN</td>\n",
       "      <td>NaN</td>\n",
       "      <td>NaN</td>\n",
       "      <td>NaN</td>\n",
       "    </tr>\n",
       "    <tr>\n",
       "      <td>2506</td>\n",
       "      <td>5014</td>\n",
       "      <td>C:\\Program Files (x86)\\Plex\\Plex Media Server\\...</td>\n",
       "      <td>Plex Transcoder.exe</td>\n",
       "      <td>Plex Media Server.exe</td>\n",
       "      <td>NaN</td>\n",
       "      <td>NaN</td>\n",
       "      <td>NaN</td>\n",
       "      <td>NaN</td>\n",
       "    </tr>\n",
       "    <tr>\n",
       "      <td>...</td>\n",
       "      <td>...</td>\n",
       "      <td>...</td>\n",
       "      <td>...</td>\n",
       "      <td>...</td>\n",
       "      <td>...</td>\n",
       "      <td>...</td>\n",
       "      <td>...</td>\n",
       "      <td>...</td>\n",
       "    </tr>\n",
       "    <tr>\n",
       "      <td>49768</td>\n",
       "      <td>99898</td>\n",
       "      <td>C:\\Windows\\System32\\svchost.exe</td>\n",
       "      <td>svchost.exe</td>\n",
       "      <td>services.exe</td>\n",
       "      <td>NaN</td>\n",
       "      <td>NaN</td>\n",
       "      <td>NaN</td>\n",
       "      <td>NaN</td>\n",
       "    </tr>\n",
       "    <tr>\n",
       "      <td>49769</td>\n",
       "      <td>99899</td>\n",
       "      <td>C:\\Windows\\System32\\svchost.exe</td>\n",
       "      <td>svchost.exe</td>\n",
       "      <td>services.exe</td>\n",
       "      <td>NaN</td>\n",
       "      <td>NaN</td>\n",
       "      <td>NaN</td>\n",
       "      <td>NaN</td>\n",
       "    </tr>\n",
       "    <tr>\n",
       "      <td>49770</td>\n",
       "      <td>99900</td>\n",
       "      <td>C:\\Windows\\System32\\Defrag.exe</td>\n",
       "      <td>Defrag.exe</td>\n",
       "      <td>svchost.exe</td>\n",
       "      <td>NaN</td>\n",
       "      <td>NaN</td>\n",
       "      <td>NaN</td>\n",
       "      <td>NaN</td>\n",
       "    </tr>\n",
       "    <tr>\n",
       "      <td>49771</td>\n",
       "      <td>99901</td>\n",
       "      <td>C:\\Windows\\System32\\conhost.exe</td>\n",
       "      <td>conhost.exe</td>\n",
       "      <td>Defrag.exe</td>\n",
       "      <td>NaN</td>\n",
       "      <td>NaN</td>\n",
       "      <td>NaN</td>\n",
       "      <td>NaN</td>\n",
       "    </tr>\n",
       "    <tr>\n",
       "      <td>49772</td>\n",
       "      <td>99902</td>\n",
       "      <td>C:\\Windows\\System32\\svchost.exe</td>\n",
       "      <td>svchost.exe</td>\n",
       "      <td>services.exe</td>\n",
       "      <td>NaN</td>\n",
       "      <td>NaN</td>\n",
       "      <td>NaN</td>\n",
       "      <td>NaN</td>\n",
       "    </tr>\n",
       "  </tbody>\n",
       "</table>\n",
       "<p>783 rows × 8 columns</p>\n",
       "</div>"
      ],
      "text/plain": [
       "       Unnamed: 0                                            process  \\\n",
       "1312         2721  C:\\Program Files (x86)\\Plex\\Plex Media Server\\...   \n",
       "1313         2722                    C:\\Windows\\System32\\conhost.exe   \n",
       "1314         2723  C:\\Program Files (x86)\\Plex\\Plex Media Server\\...   \n",
       "1315         2724  C:\\Program Files (x86)\\Plex\\Plex Media Server\\...   \n",
       "2506         5014  C:\\Program Files (x86)\\Plex\\Plex Media Server\\...   \n",
       "...           ...                                                ...   \n",
       "49768       99898                    C:\\Windows\\System32\\svchost.exe   \n",
       "49769       99899                    C:\\Windows\\System32\\svchost.exe   \n",
       "49770       99900                     C:\\Windows\\System32\\Defrag.exe   \n",
       "49771       99901                    C:\\Windows\\System32\\conhost.exe   \n",
       "49772       99902                    C:\\Windows\\System32\\svchost.exe   \n",
       "\n",
       "              process_name         parent_process parent_process_name  \\\n",
       "1312   Plex Transcoder.exe  Plex Media Server.exe                 NaN   \n",
       "1313           conhost.exe    Plex Transcoder.exe                 NaN   \n",
       "1314   Plex Transcoder.exe  Plex Media Server.exe                 NaN   \n",
       "1315   Plex Transcoder.exe  Plex Media Server.exe                 NaN   \n",
       "2506   Plex Transcoder.exe  Plex Media Server.exe                 NaN   \n",
       "...                    ...                    ...                 ...   \n",
       "49768          svchost.exe           services.exe                 NaN   \n",
       "49769          svchost.exe           services.exe                 NaN   \n",
       "49770           Defrag.exe            svchost.exe                 NaN   \n",
       "49771          conhost.exe             Defrag.exe                 NaN   \n",
       "49772          svchost.exe           services.exe                 NaN   \n",
       "\n",
       "      parent_cmd_line cmd_line user  \n",
       "1312              NaN      NaN  NaN  \n",
       "1313              NaN      NaN  NaN  \n",
       "1314              NaN      NaN  NaN  \n",
       "1315              NaN      NaN  NaN  \n",
       "2506              NaN      NaN  NaN  \n",
       "...               ...      ...  ...  \n",
       "49768             NaN      NaN  NaN  \n",
       "49769             NaN      NaN  NaN  \n",
       "49770             NaN      NaN  NaN  \n",
       "49771             NaN      NaN  NaN  \n",
       "49772             NaN      NaN  NaN  \n",
       "\n",
       "[783 rows x 8 columns]"
      ]
     },
     "execution_count": 14,
     "metadata": {},
     "output_type": "execute_result"
    }
   ],
   "source": [
    "df"
   ]
  },
  {
   "cell_type": "code",
   "execution_count": 20,
   "metadata": {},
   "outputs": [
    {
     "data": {
      "application/vnd.plotly.v1+json": {
       "config": {
        "plotlyServerURL": "https://plot.ly"
       },
       "data": [
        {
         "hoverinfo": "text",
         "line": {
          "color": "#888",
          "width": 1
         },
         "mode": "lines",
         "type": "scatter",
         "x": [
          0.46534781460472546,
          0.6306168654357972,
          null,
          0.46534781460472546,
          0.8058303811737528,
          null,
          0.46534781460472546,
          0.01642014699298048,
          null,
          0.21865262678884356,
          0.23234931137553708,
          null,
          -0.006072680523206969,
          0.5041228059807964,
          null,
          -0.006072680523206969,
          -0.8704301426827143,
          null,
          -0.006072680523206969,
          -0.36426608884461315,
          null,
          -0.006072680523206969,
          0.8580547385341795,
          null,
          -0.006072680523206969,
          -0.39894945391689884,
          null,
          -0.006072680523206969,
          -0.6630020509839912,
          null,
          -0.006072680523206969,
          0.9084613565898546,
          null,
          -0.006072680523206969,
          -0.7934835926542153,
          null,
          -0.006072680523206969,
          0.16779136822048496,
          null,
          -0.006072680523206969,
          0.7953068495158196,
          null,
          -0.006072680523206969,
          0.8116507394878497,
          null,
          -0.006072680523206969,
          -0.8707117835730392,
          null,
          -0.006072680523206969,
          0.7086103692263311,
          null,
          -0.006072680523206969,
          -0.354696241659819,
          null,
          -0.006072680523206969,
          0.6180755911340888,
          null,
          -0.006072680523206969,
          0.7721992581860275,
          null,
          -0.006072680523206969,
          -0.8492898593023976,
          null,
          -0.006072680523206969,
          -0.765559591583217,
          null,
          -0.11704744817556445,
          0.33569708540281984,
          null,
          -0.11704744817556445,
          -0.9654143402208251,
          null,
          -0.11704744817556445,
          -0.5587156223111164,
          null,
          -0.11704744817556445,
          -0.09531782733252306,
          null,
          -0.11704744817556445,
          0.833146137780658,
          null,
          -0.11704744817556445,
          0.16779136822048496,
          null,
          -0.11704744817556445,
          -0.8980548660018308,
          null,
          -0.11704744817556445,
          0.47306247249341726,
          null,
          0.19244405609842516,
          0.23234931137553708,
          null,
          -0.20360115139239374,
          -0.17529343514176476,
          null,
          -0.29925405567906604,
          0.23234931137553708,
          null,
          -0.29925405567906604,
          -0.8314206126422409,
          null,
          -0.8699663654997422,
          -0.9012267463444592,
          null,
          -0.8699663654997422,
          -0.9095307614382201,
          null,
          0.07360203918208597,
          0.8643881476790111,
          null,
          0.07360203918208597,
          -0.7180908398906984,
          null,
          -0.4288682304792552,
          -0.5548611297276775,
          null,
          0.34296566702944037,
          0.3918794487376911,
          null,
          0.6656809697297452,
          0.7451324821818057,
          null,
          0.6656809697297452,
          0.7140289080767251,
          null,
          0.5793006319397204,
          0.7451324821818057,
          null,
          0.027298328096277198,
          -0.646991375101442,
          null,
          0.027298328096277198,
          -0.7594154409152845,
          null,
          0.027298328096277198,
          0.06408594045917335,
          null,
          0.027298328096277198,
          0.9032807917233884,
          null,
          0.027298328096277198,
          0.6076611820801522,
          null,
          0.16643672851672947,
          0.23234931137553708,
          null,
          0.13480408312989303,
          -0.45452969872239,
          null,
          0.13480408312989303,
          0.29817659681081043,
          null,
          0.13480408312989303,
          -0.6146514676691508,
          null,
          0.13480408312989303,
          0.7099705918214766,
          null,
          0.13480408312989303,
          0.833146137780658,
          null,
          0.18729151048891526,
          0.23234931137553708,
          null,
          -0.1711720414949809,
          -0.5720288070718031,
          null,
          -0.1711720414949809,
          0.15014137036502553,
          null,
          0.047538005018721664,
          0.23234931137553708,
          null,
          0.047538005018721664,
          -0.45452969872239,
          null,
          0.047538005018721664,
          0.29817659681081043,
          null,
          0.26956941716198446,
          0.23234931137553708,
          null,
          0.25383664197440736,
          -0.2674308806002515,
          null,
          0.25383664197440736,
          0.23234931137553708,
          null,
          0.25383664197440736,
          0.7731325063138892,
          null,
          -0.3490816533612065,
          0.23234931137553708,
          null,
          -0.3490816533612065,
          -0.9295991702200337,
          null,
          -0.7094254731220936,
          -0.8980548660018308,
          null,
          -0.10291751215583864,
          -0.12516103308953608,
          null,
          0.18363834548031296,
          0.23234931137553708,
          null,
          0.2508616324938077,
          0.23234931137553708,
          null,
          0.19130597075109687,
          0.23234931137553708,
          null,
          0.2216815592608232,
          0.23234931137553708,
          null
         ],
         "y": [
          -0.37929753794122634,
          -0.7319802690521636,
          null,
          -0.37929753794122634,
          0.35817217771476584,
          null,
          -0.37929753794122634,
          -0.9899568710745386,
          null,
          0.7434848450348441,
          0.6938351413848787,
          null,
          -0.06458345618823585,
          -0.7708695555206876,
          null,
          -0.06458345618823585,
          -0.5150292854508264,
          null,
          -0.06458345618823585,
          -0.8784584216724954,
          null,
          -0.06458345618823585,
          0.19828226131279586,
          null,
          -0.06458345618823585,
          0.6783649908404394,
          null,
          -0.06458345618823585,
          -0.6366154315103947,
          null,
          -0.06458345618823585,
          -0.1092621514547675,
          null,
          -0.06458345618823585,
          -0.448099151878658,
          null,
          -0.06458345618823585,
          -0.9692747931457181,
          null,
          -0.06458345618823585,
          -0.1033043965100671,
          null,
          -0.06458345618823585,
          0.14113796053213706,
          null,
          -0.06458345618823585,
          0.39774779157485324,
          null,
          -0.06458345618823585,
          0.14506658442377268,
          null,
          -0.06458345618823585,
          0.8316429326013185,
          null,
          -0.06458345618823585,
          0.6784698534588822,
          null,
          -0.06458345618823585,
          -0.5358383638345512,
          null,
          -0.06458345618823585,
          0.265477227233885,
          null,
          -0.06458345618823585,
          0.40422554139585265,
          null,
          -0.5622058062723145,
          -0.8728134969262696,
          null,
          -0.5622058062723145,
          -0.028277790710627002,
          null,
          -0.5622058062723145,
          -0.8312359752805463,
          null,
          -0.5622058062723145,
          -0.9581281408246186,
          null,
          -0.5622058062723145,
          -0.3838824842807192,
          null,
          -0.5622058062723145,
          -0.9692747931457181,
          null,
          -0.5622058062723145,
          -0.34953935780386236,
          null,
          -0.5622058062723145,
          -0.8821471807846605,
          null,
          0.6117564898368241,
          0.6938351413848787,
          null,
          -0.968609697881051,
          -1,
          null,
          0.22897914293141564,
          0.6938351413848787,
          null,
          0.22897914293141564,
          -0.2339185246988914,
          null,
          0.053675486492529435,
          -0.0684651163118811,
          null,
          0.053675486492529435,
          0.1736528691379811,
          null,
          0.1695447398039775,
          -0.2530752955441437,
          null,
          0.1695447398039775,
          0.593235203388763,
          null,
          0.5708559571307242,
          0.7424964462170772,
          null,
          0.6752679290382514,
          0.7861969559543448,
          null,
          -0.13851096000425064,
          -0.681127294081969,
          null,
          -0.13851096000425064,
          0.39914831438484794,
          null,
          -0.5574536319714545,
          -0.681127294081969,
          null,
          -0.09813888756372306,
          0.4186200125597326,
          null,
          -0.09813888756372306,
          -0.5897598559814754,
          null,
          -0.09813888756372306,
          -0.899305476583374,
          null,
          -0.09813888756372306,
          0.03879067648295864,
          null,
          -0.09813888756372306,
          0.5312231094760757,
          null,
          0.7006861806971271,
          0.6938351413848787,
          null,
          -0.6262898222643748,
          -0.795499289234552,
          null,
          -0.6262898222643748,
          -0.9713714906271165,
          null,
          -0.6262898222643748,
          -0.7260504188479372,
          null,
          -0.6262898222643748,
          -0.41329385853720635,
          null,
          -0.6262898222643748,
          -0.3838824842807192,
          null,
          0.6817969537251938,
          0.6938351413848787,
          null,
          0.6011517620802392,
          0.6075405608203778,
          null,
          0.6011517620802392,
          0.7953658714486561,
          null,
          -0.2604277076739507,
          0.6938351413848787,
          null,
          -0.2604277076739507,
          -0.795499289234552,
          null,
          -0.2604277076739507,
          -0.9713714906271165,
          null,
          0.7417420253633744,
          0.6938351413848787,
          null,
          0.6632364059055098,
          0.7816789451214715,
          null,
          0.6632364059055098,
          0.6938351413848787,
          null,
          0.6632364059055098,
          0.5438965109253378,
          null,
          0.24669769491898844,
          0.6938351413848787,
          null,
          0.24669769491898844,
          -0.19942100246428496,
          null,
          -0.28482296016090647,
          -0.34953935780386236,
          null,
          0.687016632056548,
          0.7950572513493244,
          null,
          0.5853870178953733,
          0.6938351413848787,
          null,
          0.6141070260871877,
          0.6938351413848787,
          null,
          0.5539713740056836,
          0.6938351413848787,
          null,
          0.6376583558061687,
          0.6938351413848787,
          null
         ]
        },
        {
         "hoverinfo": "text",
         "marker": {
          "color": [
           3,
           1,
           1,
           13,
           18,
           1,
           1,
           8,
           1,
           1,
           1,
           1,
           1,
           2,
           1,
           2,
           1,
           1,
           1,
           2,
           1,
           1,
           1,
           1,
           1,
           1,
           1,
           1,
           1,
           1,
           2,
           1,
           2,
           2,
           1,
           1,
           1,
           1,
           5,
           1,
           1,
           5,
           2,
           1,
           2,
           2,
           1,
           3,
           1,
           1,
           1,
           1,
           1,
           3,
           1,
           2,
           1,
           2,
           1,
           1,
           1,
           1,
           1,
           1,
           1,
           2,
           1,
           1,
           1,
           1,
           1,
           1,
           1,
           1,
           1,
           1,
           1,
           1,
           1,
           1,
           1,
           1
          ],
          "colorbar": {
           "thickness": 15,
           "title": {
            "side": "right",
            "text": ""
           },
           "xanchor": "left"
          },
          "colorscale": [
           [
            0,
            "rgb(0,0,255)"
           ],
           [
            1,
            "rgb(255,0,0)"
           ]
          ],
          "line": {
           "width": 2
          },
          "reversescale": true,
          "showscale": true,
          "size": [
           30,
           10,
           10,
           130,
           180,
           10,
           10,
           80,
           10,
           10,
           10,
           10,
           10,
           20,
           10,
           20,
           10,
           10,
           10,
           20,
           10,
           10,
           10,
           10,
           10,
           10,
           10,
           10,
           10,
           10,
           20,
           10,
           20,
           20,
           10,
           10,
           10,
           10,
           50,
           10,
           10,
           50,
           20,
           10,
           20,
           20,
           10,
           30,
           10,
           10,
           10,
           10,
           10,
           30,
           10,
           20,
           10,
           20,
           10,
           10,
           10,
           10,
           10,
           10,
           10,
           20,
           10,
           10,
           10,
           10,
           10,
           10,
           10,
           10,
           10,
           10,
           10,
           10,
           10,
           10,
           10,
           10
          ]
         },
         "mode": "markers",
         "text": [
          "Node: Plex Media Server.exe<br>Degree: 3",
          "Node: C:\\Program Files (x86)\\Plex\\Plex Media Server\\Plex Transcoder.exe<br>Degree: 1",
          "Node: Plex Transcoder.exe<br>Degree: 1",
          "Node: C:\\Windows\\System32\\conhost.exe<br>Degree: 13",
          "Node: svchost.exe<br>Degree: 18",
          "Node: C:\\Windows\\System32\\backgroundTaskHost.exe<br>Degree: 1",
          "Node: C:\\Windows\\System32\\RuntimeBroker.exe<br>Degree: 1",
          "Node: services.exe<br>Degree: 8",
          "Node: C:\\Windows\\System32\\svchost.exe<br>Degree: 1",
          "Node: C:\\Program Files (x86)\\Plex\\Plex Media Server\\Plex Media Scanner.exe<br>Degree: 1",
          "Node: Plex Media Scanner.exe<br>Degree: 1",
          "Node: kited.exe<br>Degree: 1",
          "Node: C:\\Windows\\System32\\cmd.exe<br>Degree: 1",
          "Node: cmd.exe<br>Degree: 2",
          "Node: C:\\Program Files\\Microsoft VS Code\\Code.exe<br>Degree: 1",
          "Node: SearchIndexer.exe<br>Degree: 2",
          "Node: C:\\Windows\\System32\\SearchProtocolHost.exe<br>Degree: 1",
          "Node: C:\\Windows\\System32\\SearchFilterHost.exe<br>Degree: 1",
          "Node: C:\\Windows\\System32\\audiodg.exe<br>Degree: 1",
          "Node: firefox.exe<br>Degree: 2",
          "Node: C:\\Program Files\\Firefox Developer Edition\\firefox.exe<br>Degree: 1",
          "Node: C:\\Program Files (x86)\\Microsoft Office\\root\\Office16\\officebackgroundtaskhandler.exe<br>Degree: 1",
          "Node: C:\\Windows\\System32\\taskhostw.exe<br>Degree: 1",
          "Node: winlogon.exe<br>Degree: 1",
          "Node: C:\\Windows\\System32\\LogonUI.exe<br>Degree: 1",
          "Node: C:\\Windows\\System32\\dllhost.exe<br>Degree: 1",
          "Node: C:\\Program Files (x86)\\Microsoft Visual Studio\\Installer\\resources\\app\\ServiceHub\\Services\\Microsoft.VisualStudio.Setup.Service\\BackgroundDownload.exe<br>Degree: 1",
          "Node: C:\\Program Files\\Common Files\\microsoft shared\\ClickToRun\\OfficeC2RClient.exe<br>Degree: 1",
          "Node: BackgroundDownload.exe<br>Degree: 1",
          "Node: C:\\Users\\ashto\\AppData\\Local\\Temp\\xsdfl1cw.50j\\resources\\app\\ServiceHub\\Services\\Microsoft.VisualStudio.Setup.Service\\BackgroundDownload.exe<br>Degree: 1",
          "Node: C:\\Program Files (x86)\\Google\\Update\\GoogleUpdate.exe<br>Degree: 2",
          "Node: C:\\Windows\\System32\\wbem\\WmiPrvSE.exe<br>Degree: 1",
          "Node: nvcontainer.exe<br>Degree: 2",
          "Node: C:\\Users\\ashto\\AppData\\Local\\NVIDIA\\NvBackend\\ApplicationOntology\\NvOAWrapperCache.exe<br>Degree: 2",
          "Node: C:\\Users\\ashto\\AppData\\Local\\NVIDIA\\NvBackend\\DAO\\27471451\\0.dat<br>Degree: 1",
          "Node: 0.dat<br>Degree: 1",
          "Node: C:\\Program Files (x86)\\Microsoft Office\\root\\Office16\\msoia.exe<br>Degree: 1",
          "Node: C:\\Windows\\System32\\sppsvc.exe<br>Degree: 1",
          "Node: OfficeClickToRun.exe<br>Degree: 5",
          "Node: C:\\Windows\\System32\\schtasks.exe<br>Degree: 1",
          "Node: schtasks.exe<br>Degree: 1",
          "Node: msiexec.exe<br>Degree: 5",
          "Node: C:\\Windows\\Microsoft.NET\\Framework\\v4.0.30319\\ngen.exe<br>Degree: 2",
          "Node: ngen.exe<br>Degree: 1",
          "Node: C:\\Windows\\Microsoft.NET\\Framework64\\v4.0.30319\\ngen.exe<br>Degree: 2",
          "Node: taskhostw.exe<br>Degree: 2",
          "Node: C:\\Windows\\Microsoft.NET\\Framework\\v4.0.30319\\ngentask.exe<br>Degree: 1",
          "Node: ngentask.exe<br>Degree: 3",
          "Node: C:\\Windows\\Microsoft.NET\\Framework64\\v4.0.30319\\ngentask.exe<br>Degree: 1",
          "Node: C:\\Windows\\Microsoft.NET\\Framework\\v3.5\\AddInUtil.exe<br>Degree: 1",
          "Node: AddInUtil.exe<br>Degree: 1",
          "Node: C:\\Windows\\System32\\SearchIndexer.exe<br>Degree: 1",
          "Node: C:\\Program Files\\Windows Media Player\\wmpnetwk.exe<br>Degree: 1",
          "Node: Integrator.exe<br>Degree: 3",
          "Node: C:\\Windows\\SysWOW64\\wevtutil.exe<br>Degree: 1",
          "Node: wevtutil.exe<br>Degree: 2",
          "Node: C:\\Windows\\System32\\wevtutil.exe<br>Degree: 1",
          "Node: C:\\Windows\\System32\\msiexec.exe<br>Degree: 2",
          "Node: C:\\Windows\\SysWOW64\\msiexec.exe<br>Degree: 1",
          "Node: C:\\Program Files (x86)\\Microsoft Office\\root\\Integration\\Integrator.exe<br>Degree: 1",
          "Node: C:\\Windows\\SysWOW64\\schtasks.exe<br>Degree: 1",
          "Node: C:\\Program Files (x86)\\Microsoft Office\\root\\Office16\\SDXHelper.exe<br>Degree: 1",
          "Node: C:\\Program Files\\Common Files\\microsoft shared\\ClickToRun\\Updates\\16.0.12026.20334\\OfficeClickToRun.exe<br>Degree: 1",
          "Node: C:\\Program Files\\Common Files\\microsoft shared\\ClickToRun\\AppVShNotify.exe<br>Degree: 1",
          "Node: explorer.exe<br>Degree: 1",
          "Node: C:\\Program Files\\Common Files\\microsoft shared\\ClickToRun\\OfficeClickToRun.exe<br>Degree: 2",
          "Node: C:\\Program Files (x86)\\Microsoft Office\\root\\Office16\\PerfBoost.exe<br>Degree: 1",
          "Node: SABnzbd.exe<br>Degree: 1",
          "Node: C:\\Program Files\\SABnzbd\\win\\unrar\\x64\\UnRAR.exe<br>Degree: 1",
          "Node: UnRAR.exe<br>Degree: 1",
          "Node: C:\\Program Files (x86)\\Plex\\Plex Media Server\\PlexScriptHost.exe<br>Degree: 1",
          "Node: PlexScriptHost.exe<br>Degree: 1",
          "Node: C:\\Windows\\System32\\wermgr.exe<br>Degree: 1",
          "Node: C:\\Windows\\servicing\\TrustedInstaller.exe<br>Degree: 1",
          "Node: C:\\Windows\\WinSxS\\amd64_microsoft-windows-servicingstack_31bf3856ad364e35_10.0.18362.411_none_5f53d2d858cf8961\\TiWorker.exe<br>Degree: 1",
          "Node: C:\\Program Files\\Firefox Developer Edition\\pingsender.exe<br>Degree: 1",
          "Node: pingsender.exe<br>Degree: 1",
          "Node: C:\\Program Files (x86)\\Microsoft Office\\root\\vfs\\ProgramFilesCommonX86\\Microsoft Shared\\OFFICE16\\OLicenseHeartbeat.exe<br>Degree: 1",
          "Node: C:\\Windows\\System32\\wsqmcons.exe<br>Degree: 1",
          "Node: C:\\Windows\\System32\\Speech_OneCore\\common\\SpeechModelDownload.exe<br>Degree: 1",
          "Node: C:\\Windows\\System32\\Defrag.exe<br>Degree: 1",
          "Node: Defrag.exe<br>Degree: 1"
         ],
         "type": "scatter",
         "x": [
          0.46534781460472546,
          0.6306168654357972,
          0.21865262678884356,
          0.23234931137553708,
          -0.006072680523206969,
          0.5041228059807964,
          -0.8704301426827143,
          -0.11704744817556445,
          0.33569708540281984,
          0.8058303811737528,
          0.19244405609842516,
          -0.20360115139239374,
          -0.17529343514176476,
          -0.29925405567906604,
          -0.8314206126422409,
          -0.8699663654997422,
          -0.9012267463444592,
          -0.9095307614382201,
          -0.36426608884461315,
          0.07360203918208597,
          0.8643881476790111,
          0.8580547385341795,
          -0.39894945391689884,
          -0.4288682304792552,
          -0.5548611297276775,
          -0.6630020509839912,
          0.9084613565898546,
          -0.7934835926542153,
          0.34296566702944037,
          0.3918794487376911,
          0.16779136822048496,
          0.7953068495158196,
          0.6656809697297452,
          0.7451324821818057,
          0.7140289080767251,
          0.5793006319397204,
          0.8116507394878497,
          -0.9654143402208251,
          0.027298328096277198,
          -0.646991375101442,
          0.16643672851672947,
          0.13480408312989303,
          -0.45452969872239,
          0.18729151048891526,
          0.29817659681081043,
          -0.1711720414949809,
          -0.5720288070718031,
          0.047538005018721664,
          0.15014137036502553,
          -0.6146514676691508,
          0.26956941716198446,
          -0.5587156223111164,
          -0.09531782733252306,
          0.25383664197440736,
          -0.2674308806002515,
          -0.3490816533612065,
          -0.9295991702200337,
          0.833146137780658,
          0.7099705918214766,
          -0.7594154409152845,
          0.7731325063138892,
          -0.8707117835730392,
          0.06408594045917335,
          0.9032807917233884,
          -0.7094254731220936,
          -0.8980548660018308,
          0.6076611820801522,
          -0.10291751215583864,
          -0.12516103308953608,
          0.18363834548031296,
          0.01642014699298048,
          0.2508616324938077,
          0.7086103692263311,
          0.47306247249341726,
          -0.354696241659819,
          -0.7180908398906984,
          0.19130597075109687,
          0.6180755911340888,
          0.7721992581860275,
          -0.8492898593023976,
          -0.765559591583217,
          0.2216815592608232
         ],
         "y": [
          -0.37929753794122634,
          -0.7319802690521636,
          0.7434848450348441,
          0.6938351413848787,
          -0.06458345618823585,
          -0.7708695555206876,
          -0.5150292854508264,
          -0.5622058062723145,
          -0.8728134969262696,
          0.35817217771476584,
          0.6117564898368241,
          -0.968609697881051,
          -1,
          0.22897914293141564,
          -0.2339185246988914,
          0.053675486492529435,
          -0.0684651163118811,
          0.1736528691379811,
          -0.8784584216724954,
          0.1695447398039775,
          -0.2530752955441437,
          0.19828226131279586,
          0.6783649908404394,
          0.5708559571307242,
          0.7424964462170772,
          -0.6366154315103947,
          -0.1092621514547675,
          -0.448099151878658,
          0.6752679290382514,
          0.7861969559543448,
          -0.9692747931457181,
          -0.1033043965100671,
          -0.13851096000425064,
          -0.681127294081969,
          0.39914831438484794,
          -0.5574536319714545,
          0.14113796053213706,
          -0.028277790710627002,
          -0.09813888756372306,
          0.4186200125597326,
          0.7006861806971271,
          -0.6262898222643748,
          -0.795499289234552,
          0.6817969537251938,
          -0.9713714906271165,
          0.6011517620802392,
          0.6075405608203778,
          -0.2604277076739507,
          0.7953658714486561,
          -0.7260504188479372,
          0.7417420253633744,
          -0.8312359752805463,
          -0.9581281408246186,
          0.6632364059055098,
          0.7816789451214715,
          0.24669769491898844,
          -0.19942100246428496,
          -0.3838824842807192,
          -0.41329385853720635,
          -0.5897598559814754,
          0.5438965109253378,
          0.39774779157485324,
          -0.899305476583374,
          0.03879067648295864,
          -0.28482296016090647,
          -0.34953935780386236,
          0.5312231094760757,
          0.687016632056548,
          0.7950572513493244,
          0.5853870178953733,
          -0.9899568710745386,
          0.6141070260871877,
          0.14506658442377268,
          -0.8821471807846605,
          0.8316429326013185,
          0.593235203388763,
          0.5539713740056836,
          0.6784698534588822,
          -0.5358383638345512,
          0.265477227233885,
          0.40422554139585265,
          0.6376583558061687
         ]
        },
        {
         "hoverinfo": "text",
         "marker": {
          "opacity": 0
         },
         "mode": "markers",
         "text": [],
         "type": "scatter",
         "x": [],
         "y": []
        }
       ],
       "layout": {
        "annotations": [
         {
          "showarrow": false,
          "text": "",
          "x": 0.005,
          "xref": "paper",
          "y": -0.002,
          "yref": "paper"
         },
         {
          "arrowhead": 1,
          "ax": 0.46534781460472546,
          "axref": "x",
          "ay": -0.37929753794122634,
          "ayref": "y",
          "showarrow": true,
          "x": 0.6306168654357972,
          "xref": "x",
          "y": -0.7319802690521636,
          "yref": "y"
         },
         {
          "arrowhead": 1,
          "ax": 0.46534781460472546,
          "axref": "x",
          "ay": -0.37929753794122634,
          "ayref": "y",
          "showarrow": true,
          "x": 0.8058303811737528,
          "xref": "x",
          "y": 0.35817217771476584,
          "yref": "y"
         },
         {
          "arrowhead": 1,
          "ax": 0.46534781460472546,
          "axref": "x",
          "ay": -0.37929753794122634,
          "ayref": "y",
          "showarrow": true,
          "x": 0.01642014699298048,
          "xref": "x",
          "y": -0.9899568710745386,
          "yref": "y"
         },
         {
          "arrowhead": 1,
          "ax": 0.21865262678884356,
          "axref": "x",
          "ay": 0.7434848450348441,
          "ayref": "y",
          "showarrow": true,
          "x": 0.23234931137553708,
          "xref": "x",
          "y": 0.6938351413848787,
          "yref": "y"
         },
         {
          "arrowhead": 1,
          "ax": -0.006072680523206969,
          "axref": "x",
          "ay": -0.06458345618823585,
          "ayref": "y",
          "showarrow": true,
          "x": 0.5041228059807964,
          "xref": "x",
          "y": -0.7708695555206876,
          "yref": "y"
         },
         {
          "arrowhead": 1,
          "ax": -0.006072680523206969,
          "axref": "x",
          "ay": -0.06458345618823585,
          "ayref": "y",
          "showarrow": true,
          "x": -0.8704301426827143,
          "xref": "x",
          "y": -0.5150292854508264,
          "yref": "y"
         },
         {
          "arrowhead": 1,
          "ax": -0.006072680523206969,
          "axref": "x",
          "ay": -0.06458345618823585,
          "ayref": "y",
          "showarrow": true,
          "x": -0.36426608884461315,
          "xref": "x",
          "y": -0.8784584216724954,
          "yref": "y"
         },
         {
          "arrowhead": 1,
          "ax": -0.006072680523206969,
          "axref": "x",
          "ay": -0.06458345618823585,
          "ayref": "y",
          "showarrow": true,
          "x": 0.8580547385341795,
          "xref": "x",
          "y": 0.19828226131279586,
          "yref": "y"
         },
         {
          "arrowhead": 1,
          "ax": -0.006072680523206969,
          "axref": "x",
          "ay": -0.06458345618823585,
          "ayref": "y",
          "showarrow": true,
          "x": -0.39894945391689884,
          "xref": "x",
          "y": 0.6783649908404394,
          "yref": "y"
         },
         {
          "arrowhead": 1,
          "ax": -0.006072680523206969,
          "axref": "x",
          "ay": -0.06458345618823585,
          "ayref": "y",
          "showarrow": true,
          "x": -0.6630020509839912,
          "xref": "x",
          "y": -0.6366154315103947,
          "yref": "y"
         },
         {
          "arrowhead": 1,
          "ax": -0.006072680523206969,
          "axref": "x",
          "ay": -0.06458345618823585,
          "ayref": "y",
          "showarrow": true,
          "x": 0.9084613565898546,
          "xref": "x",
          "y": -0.1092621514547675,
          "yref": "y"
         },
         {
          "arrowhead": 1,
          "ax": -0.006072680523206969,
          "axref": "x",
          "ay": -0.06458345618823585,
          "ayref": "y",
          "showarrow": true,
          "x": -0.7934835926542153,
          "xref": "x",
          "y": -0.448099151878658,
          "yref": "y"
         },
         {
          "arrowhead": 1,
          "ax": -0.006072680523206969,
          "axref": "x",
          "ay": -0.06458345618823585,
          "ayref": "y",
          "showarrow": true,
          "x": 0.16779136822048496,
          "xref": "x",
          "y": -0.9692747931457181,
          "yref": "y"
         },
         {
          "arrowhead": 1,
          "ax": -0.006072680523206969,
          "axref": "x",
          "ay": -0.06458345618823585,
          "ayref": "y",
          "showarrow": true,
          "x": 0.7953068495158196,
          "xref": "x",
          "y": -0.1033043965100671,
          "yref": "y"
         },
         {
          "arrowhead": 1,
          "ax": -0.006072680523206969,
          "axref": "x",
          "ay": -0.06458345618823585,
          "ayref": "y",
          "showarrow": true,
          "x": 0.8116507394878497,
          "xref": "x",
          "y": 0.14113796053213706,
          "yref": "y"
         },
         {
          "arrowhead": 1,
          "ax": -0.006072680523206969,
          "axref": "x",
          "ay": -0.06458345618823585,
          "ayref": "y",
          "showarrow": true,
          "x": -0.8707117835730392,
          "xref": "x",
          "y": 0.39774779157485324,
          "yref": "y"
         },
         {
          "arrowhead": 1,
          "ax": -0.006072680523206969,
          "axref": "x",
          "ay": -0.06458345618823585,
          "ayref": "y",
          "showarrow": true,
          "x": 0.7086103692263311,
          "xref": "x",
          "y": 0.14506658442377268,
          "yref": "y"
         },
         {
          "arrowhead": 1,
          "ax": -0.006072680523206969,
          "axref": "x",
          "ay": -0.06458345618823585,
          "ayref": "y",
          "showarrow": true,
          "x": -0.354696241659819,
          "xref": "x",
          "y": 0.8316429326013185,
          "yref": "y"
         },
         {
          "arrowhead": 1,
          "ax": -0.006072680523206969,
          "axref": "x",
          "ay": -0.06458345618823585,
          "ayref": "y",
          "showarrow": true,
          "x": 0.6180755911340888,
          "xref": "x",
          "y": 0.6784698534588822,
          "yref": "y"
         },
         {
          "arrowhead": 1,
          "ax": -0.006072680523206969,
          "axref": "x",
          "ay": -0.06458345618823585,
          "ayref": "y",
          "showarrow": true,
          "x": 0.7721992581860275,
          "xref": "x",
          "y": -0.5358383638345512,
          "yref": "y"
         },
         {
          "arrowhead": 1,
          "ax": -0.006072680523206969,
          "axref": "x",
          "ay": -0.06458345618823585,
          "ayref": "y",
          "showarrow": true,
          "x": -0.8492898593023976,
          "xref": "x",
          "y": 0.265477227233885,
          "yref": "y"
         },
         {
          "arrowhead": 1,
          "ax": -0.006072680523206969,
          "axref": "x",
          "ay": -0.06458345618823585,
          "ayref": "y",
          "showarrow": true,
          "x": -0.765559591583217,
          "xref": "x",
          "y": 0.40422554139585265,
          "yref": "y"
         },
         {
          "arrowhead": 1,
          "ax": -0.11704744817556445,
          "axref": "x",
          "ay": -0.5622058062723145,
          "ayref": "y",
          "showarrow": true,
          "x": 0.33569708540281984,
          "xref": "x",
          "y": -0.8728134969262696,
          "yref": "y"
         },
         {
          "arrowhead": 1,
          "ax": -0.11704744817556445,
          "axref": "x",
          "ay": -0.5622058062723145,
          "ayref": "y",
          "showarrow": true,
          "x": -0.9654143402208251,
          "xref": "x",
          "y": -0.028277790710627002,
          "yref": "y"
         },
         {
          "arrowhead": 1,
          "ax": -0.11704744817556445,
          "axref": "x",
          "ay": -0.5622058062723145,
          "ayref": "y",
          "showarrow": true,
          "x": -0.5587156223111164,
          "xref": "x",
          "y": -0.8312359752805463,
          "yref": "y"
         },
         {
          "arrowhead": 1,
          "ax": -0.11704744817556445,
          "axref": "x",
          "ay": -0.5622058062723145,
          "ayref": "y",
          "showarrow": true,
          "x": -0.09531782733252306,
          "xref": "x",
          "y": -0.9581281408246186,
          "yref": "y"
         },
         {
          "arrowhead": 1,
          "ax": -0.11704744817556445,
          "axref": "x",
          "ay": -0.5622058062723145,
          "ayref": "y",
          "showarrow": true,
          "x": 0.833146137780658,
          "xref": "x",
          "y": -0.3838824842807192,
          "yref": "y"
         },
         {
          "arrowhead": 1,
          "ax": -0.11704744817556445,
          "axref": "x",
          "ay": -0.5622058062723145,
          "ayref": "y",
          "showarrow": true,
          "x": 0.16779136822048496,
          "xref": "x",
          "y": -0.9692747931457181,
          "yref": "y"
         },
         {
          "arrowhead": 1,
          "ax": -0.11704744817556445,
          "axref": "x",
          "ay": -0.5622058062723145,
          "ayref": "y",
          "showarrow": true,
          "x": -0.8980548660018308,
          "xref": "x",
          "y": -0.34953935780386236,
          "yref": "y"
         },
         {
          "arrowhead": 1,
          "ax": -0.11704744817556445,
          "axref": "x",
          "ay": -0.5622058062723145,
          "ayref": "y",
          "showarrow": true,
          "x": 0.47306247249341726,
          "xref": "x",
          "y": -0.8821471807846605,
          "yref": "y"
         },
         {
          "arrowhead": 1,
          "ax": 0.19244405609842516,
          "axref": "x",
          "ay": 0.6117564898368241,
          "ayref": "y",
          "showarrow": true,
          "x": 0.23234931137553708,
          "xref": "x",
          "y": 0.6938351413848787,
          "yref": "y"
         },
         {
          "arrowhead": 1,
          "ax": -0.20360115139239374,
          "axref": "x",
          "ay": -0.968609697881051,
          "ayref": "y",
          "showarrow": true,
          "x": -0.17529343514176476,
          "xref": "x",
          "y": -1,
          "yref": "y"
         },
         {
          "arrowhead": 1,
          "ax": -0.29925405567906604,
          "axref": "x",
          "ay": 0.22897914293141564,
          "ayref": "y",
          "showarrow": true,
          "x": 0.23234931137553708,
          "xref": "x",
          "y": 0.6938351413848787,
          "yref": "y"
         },
         {
          "arrowhead": 1,
          "ax": -0.29925405567906604,
          "axref": "x",
          "ay": 0.22897914293141564,
          "ayref": "y",
          "showarrow": true,
          "x": -0.8314206126422409,
          "xref": "x",
          "y": -0.2339185246988914,
          "yref": "y"
         },
         {
          "arrowhead": 1,
          "ax": -0.8699663654997422,
          "axref": "x",
          "ay": 0.053675486492529435,
          "ayref": "y",
          "showarrow": true,
          "x": -0.9012267463444592,
          "xref": "x",
          "y": -0.0684651163118811,
          "yref": "y"
         },
         {
          "arrowhead": 1,
          "ax": -0.8699663654997422,
          "axref": "x",
          "ay": 0.053675486492529435,
          "ayref": "y",
          "showarrow": true,
          "x": -0.9095307614382201,
          "xref": "x",
          "y": 0.1736528691379811,
          "yref": "y"
         },
         {
          "arrowhead": 1,
          "ax": 0.07360203918208597,
          "axref": "x",
          "ay": 0.1695447398039775,
          "ayref": "y",
          "showarrow": true,
          "x": 0.8643881476790111,
          "xref": "x",
          "y": -0.2530752955441437,
          "yref": "y"
         },
         {
          "arrowhead": 1,
          "ax": 0.07360203918208597,
          "axref": "x",
          "ay": 0.1695447398039775,
          "ayref": "y",
          "showarrow": true,
          "x": -0.7180908398906984,
          "xref": "x",
          "y": 0.593235203388763,
          "yref": "y"
         },
         {
          "arrowhead": 1,
          "ax": -0.4288682304792552,
          "axref": "x",
          "ay": 0.5708559571307242,
          "ayref": "y",
          "showarrow": true,
          "x": -0.5548611297276775,
          "xref": "x",
          "y": 0.7424964462170772,
          "yref": "y"
         },
         {
          "arrowhead": 1,
          "ax": 0.34296566702944037,
          "axref": "x",
          "ay": 0.6752679290382514,
          "ayref": "y",
          "showarrow": true,
          "x": 0.3918794487376911,
          "xref": "x",
          "y": 0.7861969559543448,
          "yref": "y"
         },
         {
          "arrowhead": 1,
          "ax": 0.6656809697297452,
          "axref": "x",
          "ay": -0.13851096000425064,
          "ayref": "y",
          "showarrow": true,
          "x": 0.7451324821818057,
          "xref": "x",
          "y": -0.681127294081969,
          "yref": "y"
         },
         {
          "arrowhead": 1,
          "ax": 0.6656809697297452,
          "axref": "x",
          "ay": -0.13851096000425064,
          "ayref": "y",
          "showarrow": true,
          "x": 0.7140289080767251,
          "xref": "x",
          "y": 0.39914831438484794,
          "yref": "y"
         },
         {
          "arrowhead": 1,
          "ax": 0.5793006319397204,
          "axref": "x",
          "ay": -0.5574536319714545,
          "ayref": "y",
          "showarrow": true,
          "x": 0.7451324821818057,
          "xref": "x",
          "y": -0.681127294081969,
          "yref": "y"
         },
         {
          "arrowhead": 1,
          "ax": 0.027298328096277198,
          "axref": "x",
          "ay": -0.09813888756372306,
          "ayref": "y",
          "showarrow": true,
          "x": -0.646991375101442,
          "xref": "x",
          "y": 0.4186200125597326,
          "yref": "y"
         },
         {
          "arrowhead": 1,
          "ax": 0.027298328096277198,
          "axref": "x",
          "ay": -0.09813888756372306,
          "ayref": "y",
          "showarrow": true,
          "x": -0.7594154409152845,
          "xref": "x",
          "y": -0.5897598559814754,
          "yref": "y"
         },
         {
          "arrowhead": 1,
          "ax": 0.027298328096277198,
          "axref": "x",
          "ay": -0.09813888756372306,
          "ayref": "y",
          "showarrow": true,
          "x": 0.06408594045917335,
          "xref": "x",
          "y": -0.899305476583374,
          "yref": "y"
         },
         {
          "arrowhead": 1,
          "ax": 0.027298328096277198,
          "axref": "x",
          "ay": -0.09813888756372306,
          "ayref": "y",
          "showarrow": true,
          "x": 0.9032807917233884,
          "xref": "x",
          "y": 0.03879067648295864,
          "yref": "y"
         },
         {
          "arrowhead": 1,
          "ax": 0.027298328096277198,
          "axref": "x",
          "ay": -0.09813888756372306,
          "ayref": "y",
          "showarrow": true,
          "x": 0.6076611820801522,
          "xref": "x",
          "y": 0.5312231094760757,
          "yref": "y"
         },
         {
          "arrowhead": 1,
          "ax": 0.16643672851672947,
          "axref": "x",
          "ay": 0.7006861806971271,
          "ayref": "y",
          "showarrow": true,
          "x": 0.23234931137553708,
          "xref": "x",
          "y": 0.6938351413848787,
          "yref": "y"
         },
         {
          "arrowhead": 1,
          "ax": 0.13480408312989303,
          "axref": "x",
          "ay": -0.6262898222643748,
          "ayref": "y",
          "showarrow": true,
          "x": -0.45452969872239,
          "xref": "x",
          "y": -0.795499289234552,
          "yref": "y"
         },
         {
          "arrowhead": 1,
          "ax": 0.13480408312989303,
          "axref": "x",
          "ay": -0.6262898222643748,
          "ayref": "y",
          "showarrow": true,
          "x": 0.29817659681081043,
          "xref": "x",
          "y": -0.9713714906271165,
          "yref": "y"
         },
         {
          "arrowhead": 1,
          "ax": 0.13480408312989303,
          "axref": "x",
          "ay": -0.6262898222643748,
          "ayref": "y",
          "showarrow": true,
          "x": -0.6146514676691508,
          "xref": "x",
          "y": -0.7260504188479372,
          "yref": "y"
         },
         {
          "arrowhead": 1,
          "ax": 0.13480408312989303,
          "axref": "x",
          "ay": -0.6262898222643748,
          "ayref": "y",
          "showarrow": true,
          "x": 0.7099705918214766,
          "xref": "x",
          "y": -0.41329385853720635,
          "yref": "y"
         },
         {
          "arrowhead": 1,
          "ax": 0.13480408312989303,
          "axref": "x",
          "ay": -0.6262898222643748,
          "ayref": "y",
          "showarrow": true,
          "x": 0.833146137780658,
          "xref": "x",
          "y": -0.3838824842807192,
          "yref": "y"
         },
         {
          "arrowhead": 1,
          "ax": 0.18729151048891526,
          "axref": "x",
          "ay": 0.6817969537251938,
          "ayref": "y",
          "showarrow": true,
          "x": 0.23234931137553708,
          "xref": "x",
          "y": 0.6938351413848787,
          "yref": "y"
         },
         {
          "arrowhead": 1,
          "ax": -0.1711720414949809,
          "axref": "x",
          "ay": 0.6011517620802392,
          "ayref": "y",
          "showarrow": true,
          "x": -0.5720288070718031,
          "xref": "x",
          "y": 0.6075405608203778,
          "yref": "y"
         },
         {
          "arrowhead": 1,
          "ax": -0.1711720414949809,
          "axref": "x",
          "ay": 0.6011517620802392,
          "ayref": "y",
          "showarrow": true,
          "x": 0.15014137036502553,
          "xref": "x",
          "y": 0.7953658714486561,
          "yref": "y"
         },
         {
          "arrowhead": 1,
          "ax": 0.047538005018721664,
          "axref": "x",
          "ay": -0.2604277076739507,
          "ayref": "y",
          "showarrow": true,
          "x": 0.23234931137553708,
          "xref": "x",
          "y": 0.6938351413848787,
          "yref": "y"
         },
         {
          "arrowhead": 1,
          "ax": 0.047538005018721664,
          "axref": "x",
          "ay": -0.2604277076739507,
          "ayref": "y",
          "showarrow": true,
          "x": -0.45452969872239,
          "xref": "x",
          "y": -0.795499289234552,
          "yref": "y"
         },
         {
          "arrowhead": 1,
          "ax": 0.047538005018721664,
          "axref": "x",
          "ay": -0.2604277076739507,
          "ayref": "y",
          "showarrow": true,
          "x": 0.29817659681081043,
          "xref": "x",
          "y": -0.9713714906271165,
          "yref": "y"
         },
         {
          "arrowhead": 1,
          "ax": 0.26956941716198446,
          "axref": "x",
          "ay": 0.7417420253633744,
          "ayref": "y",
          "showarrow": true,
          "x": 0.23234931137553708,
          "xref": "x",
          "y": 0.6938351413848787,
          "yref": "y"
         },
         {
          "arrowhead": 1,
          "ax": 0.25383664197440736,
          "axref": "x",
          "ay": 0.6632364059055098,
          "ayref": "y",
          "showarrow": true,
          "x": -0.2674308806002515,
          "xref": "x",
          "y": 0.7816789451214715,
          "yref": "y"
         },
         {
          "arrowhead": 1,
          "ax": 0.25383664197440736,
          "axref": "x",
          "ay": 0.6632364059055098,
          "ayref": "y",
          "showarrow": true,
          "x": 0.23234931137553708,
          "xref": "x",
          "y": 0.6938351413848787,
          "yref": "y"
         },
         {
          "arrowhead": 1,
          "ax": 0.25383664197440736,
          "axref": "x",
          "ay": 0.6632364059055098,
          "ayref": "y",
          "showarrow": true,
          "x": 0.7731325063138892,
          "xref": "x",
          "y": 0.5438965109253378,
          "yref": "y"
         },
         {
          "arrowhead": 1,
          "ax": -0.3490816533612065,
          "axref": "x",
          "ay": 0.24669769491898844,
          "ayref": "y",
          "showarrow": true,
          "x": 0.23234931137553708,
          "xref": "x",
          "y": 0.6938351413848787,
          "yref": "y"
         },
         {
          "arrowhead": 1,
          "ax": -0.3490816533612065,
          "axref": "x",
          "ay": 0.24669769491898844,
          "ayref": "y",
          "showarrow": true,
          "x": -0.9295991702200337,
          "xref": "x",
          "y": -0.19942100246428496,
          "yref": "y"
         },
         {
          "arrowhead": 1,
          "ax": -0.7094254731220936,
          "axref": "x",
          "ay": -0.28482296016090647,
          "ayref": "y",
          "showarrow": true,
          "x": -0.8980548660018308,
          "xref": "x",
          "y": -0.34953935780386236,
          "yref": "y"
         },
         {
          "arrowhead": 1,
          "ax": -0.10291751215583864,
          "axref": "x",
          "ay": 0.687016632056548,
          "ayref": "y",
          "showarrow": true,
          "x": -0.12516103308953608,
          "xref": "x",
          "y": 0.7950572513493244,
          "yref": "y"
         },
         {
          "arrowhead": 1,
          "ax": 0.18363834548031296,
          "axref": "x",
          "ay": 0.5853870178953733,
          "ayref": "y",
          "showarrow": true,
          "x": 0.23234931137553708,
          "xref": "x",
          "y": 0.6938351413848787,
          "yref": "y"
         },
         {
          "arrowhead": 1,
          "ax": 0.2508616324938077,
          "axref": "x",
          "ay": 0.6141070260871877,
          "ayref": "y",
          "showarrow": true,
          "x": 0.23234931137553708,
          "xref": "x",
          "y": 0.6938351413848787,
          "yref": "y"
         },
         {
          "arrowhead": 1,
          "ax": 0.19130597075109687,
          "axref": "x",
          "ay": 0.5539713740056836,
          "ayref": "y",
          "showarrow": true,
          "x": 0.23234931137553708,
          "xref": "x",
          "y": 0.6938351413848787,
          "yref": "y"
         },
         {
          "arrowhead": 1,
          "ax": 0.2216815592608232,
          "axref": "x",
          "ay": 0.6376583558061687,
          "ayref": "y",
          "showarrow": true,
          "x": 0.23234931137553708,
          "xref": "x",
          "y": 0.6938351413848787,
          "yref": "y"
         }
        ],
        "autosize": true,
        "hovermode": "closest",
        "margin": {
         "b": 20,
         "l": 5,
         "r": 5,
         "t": 40
        },
        "showlegend": false,
        "template": {
         "data": {
          "bar": [
           {
            "error_x": {
             "color": "#2a3f5f"
            },
            "error_y": {
             "color": "#2a3f5f"
            },
            "marker": {
             "line": {
              "color": "#E5ECF6",
              "width": 0.5
             }
            },
            "type": "bar"
           }
          ],
          "barpolar": [
           {
            "marker": {
             "line": {
              "color": "#E5ECF6",
              "width": 0.5
             }
            },
            "type": "barpolar"
           }
          ],
          "carpet": [
           {
            "aaxis": {
             "endlinecolor": "#2a3f5f",
             "gridcolor": "white",
             "linecolor": "white",
             "minorgridcolor": "white",
             "startlinecolor": "#2a3f5f"
            },
            "baxis": {
             "endlinecolor": "#2a3f5f",
             "gridcolor": "white",
             "linecolor": "white",
             "minorgridcolor": "white",
             "startlinecolor": "#2a3f5f"
            },
            "type": "carpet"
           }
          ],
          "choropleth": [
           {
            "colorbar": {
             "outlinewidth": 0,
             "ticks": ""
            },
            "type": "choropleth"
           }
          ],
          "contour": [
           {
            "colorbar": {
             "outlinewidth": 0,
             "ticks": ""
            },
            "colorscale": [
             [
              0,
              "#0d0887"
             ],
             [
              0.1111111111111111,
              "#46039f"
             ],
             [
              0.2222222222222222,
              "#7201a8"
             ],
             [
              0.3333333333333333,
              "#9c179e"
             ],
             [
              0.4444444444444444,
              "#bd3786"
             ],
             [
              0.5555555555555556,
              "#d8576b"
             ],
             [
              0.6666666666666666,
              "#ed7953"
             ],
             [
              0.7777777777777778,
              "#fb9f3a"
             ],
             [
              0.8888888888888888,
              "#fdca26"
             ],
             [
              1,
              "#f0f921"
             ]
            ],
            "type": "contour"
           }
          ],
          "contourcarpet": [
           {
            "colorbar": {
             "outlinewidth": 0,
             "ticks": ""
            },
            "type": "contourcarpet"
           }
          ],
          "heatmap": [
           {
            "colorbar": {
             "outlinewidth": 0,
             "ticks": ""
            },
            "colorscale": [
             [
              0,
              "#0d0887"
             ],
             [
              0.1111111111111111,
              "#46039f"
             ],
             [
              0.2222222222222222,
              "#7201a8"
             ],
             [
              0.3333333333333333,
              "#9c179e"
             ],
             [
              0.4444444444444444,
              "#bd3786"
             ],
             [
              0.5555555555555556,
              "#d8576b"
             ],
             [
              0.6666666666666666,
              "#ed7953"
             ],
             [
              0.7777777777777778,
              "#fb9f3a"
             ],
             [
              0.8888888888888888,
              "#fdca26"
             ],
             [
              1,
              "#f0f921"
             ]
            ],
            "type": "heatmap"
           }
          ],
          "heatmapgl": [
           {
            "colorbar": {
             "outlinewidth": 0,
             "ticks": ""
            },
            "colorscale": [
             [
              0,
              "#0d0887"
             ],
             [
              0.1111111111111111,
              "#46039f"
             ],
             [
              0.2222222222222222,
              "#7201a8"
             ],
             [
              0.3333333333333333,
              "#9c179e"
             ],
             [
              0.4444444444444444,
              "#bd3786"
             ],
             [
              0.5555555555555556,
              "#d8576b"
             ],
             [
              0.6666666666666666,
              "#ed7953"
             ],
             [
              0.7777777777777778,
              "#fb9f3a"
             ],
             [
              0.8888888888888888,
              "#fdca26"
             ],
             [
              1,
              "#f0f921"
             ]
            ],
            "type": "heatmapgl"
           }
          ],
          "histogram": [
           {
            "marker": {
             "colorbar": {
              "outlinewidth": 0,
              "ticks": ""
             }
            },
            "type": "histogram"
           }
          ],
          "histogram2d": [
           {
            "colorbar": {
             "outlinewidth": 0,
             "ticks": ""
            },
            "colorscale": [
             [
              0,
              "#0d0887"
             ],
             [
              0.1111111111111111,
              "#46039f"
             ],
             [
              0.2222222222222222,
              "#7201a8"
             ],
             [
              0.3333333333333333,
              "#9c179e"
             ],
             [
              0.4444444444444444,
              "#bd3786"
             ],
             [
              0.5555555555555556,
              "#d8576b"
             ],
             [
              0.6666666666666666,
              "#ed7953"
             ],
             [
              0.7777777777777778,
              "#fb9f3a"
             ],
             [
              0.8888888888888888,
              "#fdca26"
             ],
             [
              1,
              "#f0f921"
             ]
            ],
            "type": "histogram2d"
           }
          ],
          "histogram2dcontour": [
           {
            "colorbar": {
             "outlinewidth": 0,
             "ticks": ""
            },
            "colorscale": [
             [
              0,
              "#0d0887"
             ],
             [
              0.1111111111111111,
              "#46039f"
             ],
             [
              0.2222222222222222,
              "#7201a8"
             ],
             [
              0.3333333333333333,
              "#9c179e"
             ],
             [
              0.4444444444444444,
              "#bd3786"
             ],
             [
              0.5555555555555556,
              "#d8576b"
             ],
             [
              0.6666666666666666,
              "#ed7953"
             ],
             [
              0.7777777777777778,
              "#fb9f3a"
             ],
             [
              0.8888888888888888,
              "#fdca26"
             ],
             [
              1,
              "#f0f921"
             ]
            ],
            "type": "histogram2dcontour"
           }
          ],
          "mesh3d": [
           {
            "colorbar": {
             "outlinewidth": 0,
             "ticks": ""
            },
            "type": "mesh3d"
           }
          ],
          "parcoords": [
           {
            "line": {
             "colorbar": {
              "outlinewidth": 0,
              "ticks": ""
             }
            },
            "type": "parcoords"
           }
          ],
          "pie": [
           {
            "automargin": true,
            "type": "pie"
           }
          ],
          "scatter": [
           {
            "marker": {
             "colorbar": {
              "outlinewidth": 0,
              "ticks": ""
             }
            },
            "type": "scatter"
           }
          ],
          "scatter3d": [
           {
            "line": {
             "colorbar": {
              "outlinewidth": 0,
              "ticks": ""
             }
            },
            "marker": {
             "colorbar": {
              "outlinewidth": 0,
              "ticks": ""
             }
            },
            "type": "scatter3d"
           }
          ],
          "scattercarpet": [
           {
            "marker": {
             "colorbar": {
              "outlinewidth": 0,
              "ticks": ""
             }
            },
            "type": "scattercarpet"
           }
          ],
          "scattergeo": [
           {
            "marker": {
             "colorbar": {
              "outlinewidth": 0,
              "ticks": ""
             }
            },
            "type": "scattergeo"
           }
          ],
          "scattergl": [
           {
            "marker": {
             "colorbar": {
              "outlinewidth": 0,
              "ticks": ""
             }
            },
            "type": "scattergl"
           }
          ],
          "scattermapbox": [
           {
            "marker": {
             "colorbar": {
              "outlinewidth": 0,
              "ticks": ""
             }
            },
            "type": "scattermapbox"
           }
          ],
          "scatterpolar": [
           {
            "marker": {
             "colorbar": {
              "outlinewidth": 0,
              "ticks": ""
             }
            },
            "type": "scatterpolar"
           }
          ],
          "scatterpolargl": [
           {
            "marker": {
             "colorbar": {
              "outlinewidth": 0,
              "ticks": ""
             }
            },
            "type": "scatterpolargl"
           }
          ],
          "scatterternary": [
           {
            "marker": {
             "colorbar": {
              "outlinewidth": 0,
              "ticks": ""
             }
            },
            "type": "scatterternary"
           }
          ],
          "surface": [
           {
            "colorbar": {
             "outlinewidth": 0,
             "ticks": ""
            },
            "colorscale": [
             [
              0,
              "#0d0887"
             ],
             [
              0.1111111111111111,
              "#46039f"
             ],
             [
              0.2222222222222222,
              "#7201a8"
             ],
             [
              0.3333333333333333,
              "#9c179e"
             ],
             [
              0.4444444444444444,
              "#bd3786"
             ],
             [
              0.5555555555555556,
              "#d8576b"
             ],
             [
              0.6666666666666666,
              "#ed7953"
             ],
             [
              0.7777777777777778,
              "#fb9f3a"
             ],
             [
              0.8888888888888888,
              "#fdca26"
             ],
             [
              1,
              "#f0f921"
             ]
            ],
            "type": "surface"
           }
          ],
          "table": [
           {
            "cells": {
             "fill": {
              "color": "#EBF0F8"
             },
             "line": {
              "color": "white"
             }
            },
            "header": {
             "fill": {
              "color": "#C8D4E3"
             },
             "line": {
              "color": "white"
             }
            },
            "type": "table"
           }
          ]
         },
         "layout": {
          "annotationdefaults": {
           "arrowcolor": "#2a3f5f",
           "arrowhead": 0,
           "arrowwidth": 1
          },
          "coloraxis": {
           "colorbar": {
            "outlinewidth": 0,
            "ticks": ""
           }
          },
          "colorscale": {
           "diverging": [
            [
             0,
             "#8e0152"
            ],
            [
             0.1,
             "#c51b7d"
            ],
            [
             0.2,
             "#de77ae"
            ],
            [
             0.3,
             "#f1b6da"
            ],
            [
             0.4,
             "#fde0ef"
            ],
            [
             0.5,
             "#f7f7f7"
            ],
            [
             0.6,
             "#e6f5d0"
            ],
            [
             0.7,
             "#b8e186"
            ],
            [
             0.8,
             "#7fbc41"
            ],
            [
             0.9,
             "#4d9221"
            ],
            [
             1,
             "#276419"
            ]
           ],
           "sequential": [
            [
             0,
             "#0d0887"
            ],
            [
             0.1111111111111111,
             "#46039f"
            ],
            [
             0.2222222222222222,
             "#7201a8"
            ],
            [
             0.3333333333333333,
             "#9c179e"
            ],
            [
             0.4444444444444444,
             "#bd3786"
            ],
            [
             0.5555555555555556,
             "#d8576b"
            ],
            [
             0.6666666666666666,
             "#ed7953"
            ],
            [
             0.7777777777777778,
             "#fb9f3a"
            ],
            [
             0.8888888888888888,
             "#fdca26"
            ],
            [
             1,
             "#f0f921"
            ]
           ],
           "sequentialminus": [
            [
             0,
             "#0d0887"
            ],
            [
             0.1111111111111111,
             "#46039f"
            ],
            [
             0.2222222222222222,
             "#7201a8"
            ],
            [
             0.3333333333333333,
             "#9c179e"
            ],
            [
             0.4444444444444444,
             "#bd3786"
            ],
            [
             0.5555555555555556,
             "#d8576b"
            ],
            [
             0.6666666666666666,
             "#ed7953"
            ],
            [
             0.7777777777777778,
             "#fb9f3a"
            ],
            [
             0.8888888888888888,
             "#fdca26"
            ],
            [
             1,
             "#f0f921"
            ]
           ]
          },
          "colorway": [
           "#636efa",
           "#EF553B",
           "#00cc96",
           "#ab63fa",
           "#FFA15A",
           "#19d3f3",
           "#FF6692",
           "#B6E880",
           "#FF97FF",
           "#FECB52"
          ],
          "font": {
           "color": "#2a3f5f"
          },
          "geo": {
           "bgcolor": "white",
           "lakecolor": "white",
           "landcolor": "#E5ECF6",
           "showlakes": true,
           "showland": true,
           "subunitcolor": "white"
          },
          "hoverlabel": {
           "align": "left"
          },
          "hovermode": "closest",
          "mapbox": {
           "style": "light"
          },
          "paper_bgcolor": "white",
          "plot_bgcolor": "#E5ECF6",
          "polar": {
           "angularaxis": {
            "gridcolor": "white",
            "linecolor": "white",
            "ticks": ""
           },
           "bgcolor": "#E5ECF6",
           "radialaxis": {
            "gridcolor": "white",
            "linecolor": "white",
            "ticks": ""
           }
          },
          "scene": {
           "xaxis": {
            "backgroundcolor": "#E5ECF6",
            "gridcolor": "white",
            "gridwidth": 2,
            "linecolor": "white",
            "showbackground": true,
            "ticks": "",
            "zerolinecolor": "white"
           },
           "yaxis": {
            "backgroundcolor": "#E5ECF6",
            "gridcolor": "white",
            "gridwidth": 2,
            "linecolor": "white",
            "showbackground": true,
            "ticks": "",
            "zerolinecolor": "white"
           },
           "zaxis": {
            "backgroundcolor": "#E5ECF6",
            "gridcolor": "white",
            "gridwidth": 2,
            "linecolor": "white",
            "showbackground": true,
            "ticks": "",
            "zerolinecolor": "white"
           }
          },
          "shapedefaults": {
           "line": {
            "color": "#2a3f5f"
           }
          },
          "ternary": {
           "aaxis": {
            "gridcolor": "white",
            "linecolor": "white",
            "ticks": ""
           },
           "baxis": {
            "gridcolor": "white",
            "linecolor": "white",
            "ticks": ""
           },
           "bgcolor": "#E5ECF6",
           "caxis": {
            "gridcolor": "white",
            "linecolor": "white",
            "ticks": ""
           }
          },
          "title": {
           "x": 0.05
          },
          "xaxis": {
           "automargin": true,
           "gridcolor": "white",
           "linecolor": "white",
           "ticks": "",
           "title": {
            "standoff": 15
           },
           "zerolinecolor": "white",
           "zerolinewidth": 2
          },
          "yaxis": {
           "automargin": true,
           "gridcolor": "white",
           "linecolor": "white",
           "ticks": "",
           "title": {
            "standoff": 15
           },
           "zerolinecolor": "white",
           "zerolinewidth": 2
          }
         }
        },
        "title": {
         "font": {
          "size": 16
         },
         "text": "Graph"
        },
        "xaxis": {
         "autorange": true,
         "range": [
          -1.0809565570893047,
          1.0240035734583341
         ],
         "showgrid": false,
         "showticklabels": false,
         "type": "linear",
         "zeroline": false
        },
        "yaxis": {
         "autorange": true,
         "range": [
          -1.1785108967471702,
          1.3460006153409858
         ],
         "showgrid": false,
         "showticklabels": false,
         "type": "linear",
         "zeroline": false
        }
       }
      },
      "image/png": "[encoded data removed]",
      "text/html": [
       "<div>\n",
       "        \n",
       "        \n",
       "            <div id=\"40321f26-7b8b-4c44-bfd9-877267f827e0\" class=\"plotly-graph-div\" style=\"height:525px; width:100%;\"></div>\n",
       "            <script type=\"text/javascript\">\n",
       "                require([\"plotly\"], function(Plotly) {\n",
       "                    window.PLOTLYENV=window.PLOTLYENV || {};\n",
       "                    \n",
       "                if (document.getElementById(\"40321f26-7b8b-4c44-bfd9-877267f827e0\")) {\n",
       "                    Plotly.newPlot(\n",
       "                        '40321f26-7b8b-4c44-bfd9-877267f827e0',\n",
       "                        [{\"hoverinfo\": \"text\", \"line\": {\"color\": \"#888\", \"width\": 1}, \"mode\": \"lines\", \"type\": \"scatter\", \"x\": [0.46534781460472546, 0.6306168654357972, null, 0.46534781460472546, 0.8058303811737528, null, 0.46534781460472546, 0.01642014699298048, null, 0.21865262678884356, 0.23234931137553708, null, -0.006072680523206969, 0.5041228059807964, null, -0.006072680523206969, -0.8704301426827143, null, -0.006072680523206969, -0.36426608884461315, null, -0.006072680523206969, 0.8580547385341795, null, -0.006072680523206969, -0.39894945391689884, null, -0.006072680523206969, -0.6630020509839912, null, -0.006072680523206969, 0.9084613565898546, null, -0.006072680523206969, -0.7934835926542153, null, -0.006072680523206969, 0.16779136822048496, null, -0.006072680523206969, 0.7953068495158196, null, -0.006072680523206969, 0.8116507394878497, null, -0.006072680523206969, -0.8707117835730392, null, -0.006072680523206969, 0.7086103692263311, null, -0.006072680523206969, -0.354696241659819, null, -0.006072680523206969, 0.6180755911340888, null, -0.006072680523206969, 0.7721992581860275, null, -0.006072680523206969, -0.8492898593023976, null, -0.006072680523206969, -0.765559591583217, null, -0.11704744817556445, 0.33569708540281984, null, -0.11704744817556445, -0.9654143402208251, null, -0.11704744817556445, -0.5587156223111164, null, -0.11704744817556445, -0.09531782733252306, null, -0.11704744817556445, 0.833146137780658, null, -0.11704744817556445, 0.16779136822048496, null, -0.11704744817556445, -0.8980548660018308, null, -0.11704744817556445, 0.47306247249341726, null, 0.19244405609842516, 0.23234931137553708, null, -0.20360115139239374, -0.17529343514176476, null, -0.29925405567906604, 0.23234931137553708, null, -0.29925405567906604, -0.8314206126422409, null, -0.8699663654997422, -0.9012267463444592, null, -0.8699663654997422, -0.9095307614382201, null, 0.07360203918208597, 0.8643881476790111, null, 0.07360203918208597, -0.7180908398906984, null, -0.4288682304792552, -0.5548611297276775, null, 0.34296566702944037, 0.3918794487376911, null, 0.6656809697297452, 0.7451324821818057, null, 0.6656809697297452, 0.7140289080767251, null, 0.5793006319397204, 0.7451324821818057, null, 0.027298328096277198, -0.646991375101442, null, 0.027298328096277198, -0.7594154409152845, null, 0.027298328096277198, 0.06408594045917335, null, 0.027298328096277198, 0.9032807917233884, null, 0.027298328096277198, 0.6076611820801522, null, 0.16643672851672947, 0.23234931137553708, null, 0.13480408312989303, -0.45452969872239, null, 0.13480408312989303, 0.29817659681081043, null, 0.13480408312989303, -0.6146514676691508, null, 0.13480408312989303, 0.7099705918214766, null, 0.13480408312989303, 0.833146137780658, null, 0.18729151048891526, 0.23234931137553708, null, -0.1711720414949809, -0.5720288070718031, null, -0.1711720414949809, 0.15014137036502553, null, 0.047538005018721664, 0.23234931137553708, null, 0.047538005018721664, -0.45452969872239, null, 0.047538005018721664, 0.29817659681081043, null, 0.26956941716198446, 0.23234931137553708, null, 0.25383664197440736, -0.2674308806002515, null, 0.25383664197440736, 0.23234931137553708, null, 0.25383664197440736, 0.7731325063138892, null, -0.3490816533612065, 0.23234931137553708, null, -0.3490816533612065, -0.9295991702200337, null, -0.7094254731220936, -0.8980548660018308, null, -0.10291751215583864, -0.12516103308953608, null, 0.18363834548031296, 0.23234931137553708, null, 0.2508616324938077, 0.23234931137553708, null, 0.19130597075109687, 0.23234931137553708, null, 0.2216815592608232, 0.23234931137553708, null], \"y\": [-0.37929753794122634, -0.7319802690521636, null, -0.37929753794122634, 0.35817217771476584, null, -0.37929753794122634, -0.9899568710745386, null, 0.7434848450348441, 0.6938351413848787, null, -0.06458345618823585, -0.7708695555206876, null, -0.06458345618823585, -0.5150292854508264, null, -0.06458345618823585, -0.8784584216724954, null, -0.06458345618823585, 0.19828226131279586, null, -0.06458345618823585, 0.6783649908404394, null, -0.06458345618823585, -0.6366154315103947, null, -0.06458345618823585, -0.1092621514547675, null, -0.06458345618823585, -0.448099151878658, null, -0.06458345618823585, -0.9692747931457181, null, -0.06458345618823585, -0.1033043965100671, null, -0.06458345618823585, 0.14113796053213706, null, -0.06458345618823585, 0.39774779157485324, null, -0.06458345618823585, 0.14506658442377268, null, -0.06458345618823585, 0.8316429326013185, null, -0.06458345618823585, 0.6784698534588822, null, -0.06458345618823585, -0.5358383638345512, null, -0.06458345618823585, 0.265477227233885, null, -0.06458345618823585, 0.40422554139585265, null, -0.5622058062723145, -0.8728134969262696, null, -0.5622058062723145, -0.028277790710627002, null, -0.5622058062723145, -0.8312359752805463, null, -0.5622058062723145, -0.9581281408246186, null, -0.5622058062723145, -0.3838824842807192, null, -0.5622058062723145, -0.9692747931457181, null, -0.5622058062723145, -0.34953935780386236, null, -0.5622058062723145, -0.8821471807846605, null, 0.6117564898368241, 0.6938351413848787, null, -0.968609697881051, -1.0, null, 0.22897914293141564, 0.6938351413848787, null, 0.22897914293141564, -0.2339185246988914, null, 0.053675486492529435, -0.0684651163118811, null, 0.053675486492529435, 0.1736528691379811, null, 0.1695447398039775, -0.2530752955441437, null, 0.1695447398039775, 0.593235203388763, null, 0.5708559571307242, 0.7424964462170772, null, 0.6752679290382514, 0.7861969559543448, null, -0.13851096000425064, -0.681127294081969, null, -0.13851096000425064, 0.39914831438484794, null, -0.5574536319714545, -0.681127294081969, null, -0.09813888756372306, 0.4186200125597326, null, -0.09813888756372306, -0.5897598559814754, null, -0.09813888756372306, -0.899305476583374, null, -0.09813888756372306, 0.03879067648295864, null, -0.09813888756372306, 0.5312231094760757, null, 0.7006861806971271, 0.6938351413848787, null, -0.6262898222643748, -0.795499289234552, null, -0.6262898222643748, -0.9713714906271165, null, -0.6262898222643748, -0.7260504188479372, null, -0.6262898222643748, -0.41329385853720635, null, -0.6262898222643748, -0.3838824842807192, null, 0.6817969537251938, 0.6938351413848787, null, 0.6011517620802392, 0.6075405608203778, null, 0.6011517620802392, 0.7953658714486561, null, -0.2604277076739507, 0.6938351413848787, null, -0.2604277076739507, -0.795499289234552, null, -0.2604277076739507, -0.9713714906271165, null, 0.7417420253633744, 0.6938351413848787, null, 0.6632364059055098, 0.7816789451214715, null, 0.6632364059055098, 0.6938351413848787, null, 0.6632364059055098, 0.5438965109253378, null, 0.24669769491898844, 0.6938351413848787, null, 0.24669769491898844, -0.19942100246428496, null, -0.28482296016090647, -0.34953935780386236, null, 0.687016632056548, 0.7950572513493244, null, 0.5853870178953733, 0.6938351413848787, null, 0.6141070260871877, 0.6938351413848787, null, 0.5539713740056836, 0.6938351413848787, null, 0.6376583558061687, 0.6938351413848787, null]}, {\"hoverinfo\": \"text\", \"marker\": {\"color\": [3, 1, 1, 13, 18, 1, 1, 8, 1, 1, 1, 1, 1, 2, 1, 2, 1, 1, 1, 2, 1, 1, 1, 1, 1, 1, 1, 1, 1, 1, 2, 1, 2, 2, 1, 1, 1, 1, 5, 1, 1, 5, 2, 1, 2, 2, 1, 3, 1, 1, 1, 1, 1, 3, 1, 2, 1, 2, 1, 1, 1, 1, 1, 1, 1, 2, 1, 1, 1, 1, 1, 1, 1, 1, 1, 1, 1, 1, 1, 1, 1, 1], \"colorbar\": {\"thickness\": 15, \"title\": {\"side\": \"right\", \"text\": \"\"}, \"xanchor\": \"left\"}, \"colorscale\": [[0.0, \"rgb(0,0,255)\"], [1.0, \"rgb(255,0,0)\"]], \"line\": {\"width\": 2}, \"reversescale\": true, \"showscale\": true, \"size\": [30, 10, 10, 130, 180, 10, 10, 80, 10, 10, 10, 10, 10, 20, 10, 20, 10, 10, 10, 20, 10, 10, 10, 10, 10, 10, 10, 10, 10, 10, 20, 10, 20, 20, 10, 10, 10, 10, 50, 10, 10, 50, 20, 10, 20, 20, 10, 30, 10, 10, 10, 10, 10, 30, 10, 20, 10, 20, 10, 10, 10, 10, 10, 10, 10, 20, 10, 10, 10, 10, 10, 10, 10, 10, 10, 10, 10, 10, 10, 10, 10, 10]}, \"mode\": \"markers\", \"text\": [\"Node: Plex Media Server.exe<br>Degree: 3\", \"Node: C:\\\\Program Files (x86)\\\\Plex\\\\Plex Media Server\\\\Plex Transcoder.exe<br>Degree: 1\", \"Node: Plex Transcoder.exe<br>Degree: 1\", \"Node: C:\\\\Windows\\\\System32\\\\conhost.exe<br>Degree: 13\", \"Node: svchost.exe<br>Degree: 18\", \"Node: C:\\\\Windows\\\\System32\\\\backgroundTaskHost.exe<br>Degree: 1\", \"Node: C:\\\\Windows\\\\System32\\\\RuntimeBroker.exe<br>Degree: 1\", \"Node: services.exe<br>Degree: 8\", \"Node: C:\\\\Windows\\\\System32\\\\svchost.exe<br>Degree: 1\", \"Node: C:\\\\Program Files (x86)\\\\Plex\\\\Plex Media Server\\\\Plex Media Scanner.exe<br>Degree: 1\", \"Node: Plex Media Scanner.exe<br>Degree: 1\", \"Node: kited.exe<br>Degree: 1\", \"Node: C:\\\\Windows\\\\System32\\\\cmd.exe<br>Degree: 1\", \"Node: cmd.exe<br>Degree: 2\", \"Node: C:\\\\Program Files\\\\Microsoft VS Code\\\\Code.exe<br>Degree: 1\", \"Node: SearchIndexer.exe<br>Degree: 2\", \"Node: C:\\\\Windows\\\\System32\\\\SearchProtocolHost.exe<br>Degree: 1\", \"Node: C:\\\\Windows\\\\System32\\\\SearchFilterHost.exe<br>Degree: 1\", \"Node: C:\\\\Windows\\\\System32\\\\audiodg.exe<br>Degree: 1\", \"Node: firefox.exe<br>Degree: 2\", \"Node: C:\\\\Program Files\\\\Firefox Developer Edition\\\\firefox.exe<br>Degree: 1\", \"Node: C:\\\\Program Files (x86)\\\\Microsoft Office\\\\root\\\\Office16\\\\officebackgroundtaskhandler.exe<br>Degree: 1\", \"Node: C:\\\\Windows\\\\System32\\\\taskhostw.exe<br>Degree: 1\", \"Node: winlogon.exe<br>Degree: 1\", \"Node: C:\\\\Windows\\\\System32\\\\LogonUI.exe<br>Degree: 1\", \"Node: C:\\\\Windows\\\\System32\\\\dllhost.exe<br>Degree: 1\", \"Node: C:\\\\Program Files (x86)\\\\Microsoft Visual Studio\\\\Installer\\\\resources\\\\app\\\\ServiceHub\\\\Services\\\\Microsoft.VisualStudio.Setup.Service\\\\BackgroundDownload.exe<br>Degree: 1\", \"Node: C:\\\\Program Files\\\\Common Files\\\\microsoft shared\\\\ClickToRun\\\\OfficeC2RClient.exe<br>Degree: 1\", \"Node: BackgroundDownload.exe<br>Degree: 1\", \"Node: C:\\\\Users\\\\ashto\\\\AppData\\\\Local\\\\Temp\\\\xsdfl1cw.50j\\\\resources\\\\app\\\\ServiceHub\\\\Services\\\\Microsoft.VisualStudio.Setup.Service\\\\BackgroundDownload.exe<br>Degree: 1\", \"Node: C:\\\\Program Files (x86)\\\\Google\\\\Update\\\\GoogleUpdate.exe<br>Degree: 2\", \"Node: C:\\\\Windows\\\\System32\\\\wbem\\\\WmiPrvSE.exe<br>Degree: 1\", \"Node: nvcontainer.exe<br>Degree: 2\", \"Node: C:\\\\Users\\\\ashto\\\\AppData\\\\Local\\\\NVIDIA\\\\NvBackend\\\\ApplicationOntology\\\\NvOAWrapperCache.exe<br>Degree: 2\", \"Node: C:\\\\Users\\\\ashto\\\\AppData\\\\Local\\\\NVIDIA\\\\NvBackend\\\\DAO\\\\27471451\\\\0.dat<br>Degree: 1\", \"Node: 0.dat<br>Degree: 1\", \"Node: C:\\\\Program Files (x86)\\\\Microsoft Office\\\\root\\\\Office16\\\\msoia.exe<br>Degree: 1\", \"Node: C:\\\\Windows\\\\System32\\\\sppsvc.exe<br>Degree: 1\", \"Node: OfficeClickToRun.exe<br>Degree: 5\", \"Node: C:\\\\Windows\\\\System32\\\\schtasks.exe<br>Degree: 1\", \"Node: schtasks.exe<br>Degree: 1\", \"Node: msiexec.exe<br>Degree: 5\", \"Node: C:\\\\Windows\\\\Microsoft.NET\\\\Framework\\\\v4.0.30319\\\\ngen.exe<br>Degree: 2\", \"Node: ngen.exe<br>Degree: 1\", \"Node: C:\\\\Windows\\\\Microsoft.NET\\\\Framework64\\\\v4.0.30319\\\\ngen.exe<br>Degree: 2\", \"Node: taskhostw.exe<br>Degree: 2\", \"Node: C:\\\\Windows\\\\Microsoft.NET\\\\Framework\\\\v4.0.30319\\\\ngentask.exe<br>Degree: 1\", \"Node: ngentask.exe<br>Degree: 3\", \"Node: C:\\\\Windows\\\\Microsoft.NET\\\\Framework64\\\\v4.0.30319\\\\ngentask.exe<br>Degree: 1\", \"Node: C:\\\\Windows\\\\Microsoft.NET\\\\Framework\\\\v3.5\\\\AddInUtil.exe<br>Degree: 1\", \"Node: AddInUtil.exe<br>Degree: 1\", \"Node: C:\\\\Windows\\\\System32\\\\SearchIndexer.exe<br>Degree: 1\", \"Node: C:\\\\Program Files\\\\Windows Media Player\\\\wmpnetwk.exe<br>Degree: 1\", \"Node: Integrator.exe<br>Degree: 3\", \"Node: C:\\\\Windows\\\\SysWOW64\\\\wevtutil.exe<br>Degree: 1\", \"Node: wevtutil.exe<br>Degree: 2\", \"Node: C:\\\\Windows\\\\System32\\\\wevtutil.exe<br>Degree: 1\", \"Node: C:\\\\Windows\\\\System32\\\\msiexec.exe<br>Degree: 2\", \"Node: C:\\\\Windows\\\\SysWOW64\\\\msiexec.exe<br>Degree: 1\", \"Node: C:\\\\Program Files (x86)\\\\Microsoft Office\\\\root\\\\Integration\\\\Integrator.exe<br>Degree: 1\", \"Node: C:\\\\Windows\\\\SysWOW64\\\\schtasks.exe<br>Degree: 1\", \"Node: C:\\\\Program Files (x86)\\\\Microsoft Office\\\\root\\\\Office16\\\\SDXHelper.exe<br>Degree: 1\", \"Node: C:\\\\Program Files\\\\Common Files\\\\microsoft shared\\\\ClickToRun\\\\Updates\\\\16.0.12026.20334\\\\OfficeClickToRun.exe<br>Degree: 1\", \"Node: C:\\\\Program Files\\\\Common Files\\\\microsoft shared\\\\ClickToRun\\\\AppVShNotify.exe<br>Degree: 1\", \"Node: explorer.exe<br>Degree: 1\", \"Node: C:\\\\Program Files\\\\Common Files\\\\microsoft shared\\\\ClickToRun\\\\OfficeClickToRun.exe<br>Degree: 2\", \"Node: C:\\\\Program Files (x86)\\\\Microsoft Office\\\\root\\\\Office16\\\\PerfBoost.exe<br>Degree: 1\", \"Node: SABnzbd.exe<br>Degree: 1\", \"Node: C:\\\\Program Files\\\\SABnzbd\\\\win\\\\unrar\\\\x64\\\\UnRAR.exe<br>Degree: 1\", \"Node: UnRAR.exe<br>Degree: 1\", \"Node: C:\\\\Program Files (x86)\\\\Plex\\\\Plex Media Server\\\\PlexScriptHost.exe<br>Degree: 1\", \"Node: PlexScriptHost.exe<br>Degree: 1\", \"Node: C:\\\\Windows\\\\System32\\\\wermgr.exe<br>Degree: 1\", \"Node: C:\\\\Windows\\\\servicing\\\\TrustedInstaller.exe<br>Degree: 1\", \"Node: C:\\\\Windows\\\\WinSxS\\\\amd64_microsoft-windows-servicingstack_31bf3856ad364e35_10.0.18362.411_none_5f53d2d858cf8961\\\\TiWorker.exe<br>Degree: 1\", \"Node: C:\\\\Program Files\\\\Firefox Developer Edition\\\\pingsender.exe<br>Degree: 1\", \"Node: pingsender.exe<br>Degree: 1\", \"Node: C:\\\\Program Files (x86)\\\\Microsoft Office\\\\root\\\\vfs\\\\ProgramFilesCommonX86\\\\Microsoft Shared\\\\OFFICE16\\\\OLicenseHeartbeat.exe<br>Degree: 1\", \"Node: C:\\\\Windows\\\\System32\\\\wsqmcons.exe<br>Degree: 1\", \"Node: C:\\\\Windows\\\\System32\\\\Speech_OneCore\\\\common\\\\SpeechModelDownload.exe<br>Degree: 1\", \"Node: C:\\\\Windows\\\\System32\\\\Defrag.exe<br>Degree: 1\", \"Node: Defrag.exe<br>Degree: 1\"], \"type\": \"scatter\", \"x\": [0.46534781460472546, 0.6306168654357972, 0.21865262678884356, 0.23234931137553708, -0.006072680523206969, 0.5041228059807964, -0.8704301426827143, -0.11704744817556445, 0.33569708540281984, 0.8058303811737528, 0.19244405609842516, -0.20360115139239374, -0.17529343514176476, -0.29925405567906604, -0.8314206126422409, -0.8699663654997422, -0.9012267463444592, -0.9095307614382201, -0.36426608884461315, 0.07360203918208597, 0.8643881476790111, 0.8580547385341795, -0.39894945391689884, -0.4288682304792552, -0.5548611297276775, -0.6630020509839912, 0.9084613565898546, -0.7934835926542153, 0.34296566702944037, 0.3918794487376911, 0.16779136822048496, 0.7953068495158196, 0.6656809697297452, 0.7451324821818057, 0.7140289080767251, 0.5793006319397204, 0.8116507394878497, -0.9654143402208251, 0.027298328096277198, -0.646991375101442, 0.16643672851672947, 0.13480408312989303, -0.45452969872239, 0.18729151048891526, 0.29817659681081043, -0.1711720414949809, -0.5720288070718031, 0.047538005018721664, 0.15014137036502553, -0.6146514676691508, 0.26956941716198446, -0.5587156223111164, -0.09531782733252306, 0.25383664197440736, -0.2674308806002515, -0.3490816533612065, -0.9295991702200337, 0.833146137780658, 0.7099705918214766, -0.7594154409152845, 0.7731325063138892, -0.8707117835730392, 0.06408594045917335, 0.9032807917233884, -0.7094254731220936, -0.8980548660018308, 0.6076611820801522, -0.10291751215583864, -0.12516103308953608, 0.18363834548031296, 0.01642014699298048, 0.2508616324938077, 0.7086103692263311, 0.47306247249341726, -0.354696241659819, -0.7180908398906984, 0.19130597075109687, 0.6180755911340888, 0.7721992581860275, -0.8492898593023976, -0.765559591583217, 0.2216815592608232], \"y\": [-0.37929753794122634, -0.7319802690521636, 0.7434848450348441, 0.6938351413848787, -0.06458345618823585, -0.7708695555206876, -0.5150292854508264, -0.5622058062723145, -0.8728134969262696, 0.35817217771476584, 0.6117564898368241, -0.968609697881051, -1.0, 0.22897914293141564, -0.2339185246988914, 0.053675486492529435, -0.0684651163118811, 0.1736528691379811, -0.8784584216724954, 0.1695447398039775, -0.2530752955441437, 0.19828226131279586, 0.6783649908404394, 0.5708559571307242, 0.7424964462170772, -0.6366154315103947, -0.1092621514547675, -0.448099151878658, 0.6752679290382514, 0.7861969559543448, -0.9692747931457181, -0.1033043965100671, -0.13851096000425064, -0.681127294081969, 0.39914831438484794, -0.5574536319714545, 0.14113796053213706, -0.028277790710627002, -0.09813888756372306, 0.4186200125597326, 0.7006861806971271, -0.6262898222643748, -0.795499289234552, 0.6817969537251938, -0.9713714906271165, 0.6011517620802392, 0.6075405608203778, -0.2604277076739507, 0.7953658714486561, -0.7260504188479372, 0.7417420253633744, -0.8312359752805463, -0.9581281408246186, 0.6632364059055098, 0.7816789451214715, 0.24669769491898844, -0.19942100246428496, -0.3838824842807192, -0.41329385853720635, -0.5897598559814754, 0.5438965109253378, 0.39774779157485324, -0.899305476583374, 0.03879067648295864, -0.28482296016090647, -0.34953935780386236, 0.5312231094760757, 0.687016632056548, 0.7950572513493244, 0.5853870178953733, -0.9899568710745386, 0.6141070260871877, 0.14506658442377268, -0.8821471807846605, 0.8316429326013185, 0.593235203388763, 0.5539713740056836, 0.6784698534588822, -0.5358383638345512, 0.265477227233885, 0.40422554139585265, 0.6376583558061687]}, {\"hoverinfo\": \"text\", \"marker\": {\"opacity\": 0}, \"mode\": \"markers\", \"text\": [], \"type\": \"scatter\", \"x\": [], \"y\": []}],\n",
       "                        {\"annotations\": [{\"showarrow\": false, \"text\": \"\", \"x\": 0.005, \"xref\": \"paper\", \"y\": -0.002, \"yref\": \"paper\"}, {\"arrowhead\": 1, \"ax\": 0.46534781460472546, \"axref\": \"x\", \"ay\": -0.37929753794122634, \"ayref\": \"y\", \"showarrow\": true, \"x\": 0.6306168654357972, \"xref\": \"x\", \"y\": -0.7319802690521636, \"yref\": \"y\"}, {\"arrowhead\": 1, \"ax\": 0.46534781460472546, \"axref\": \"x\", \"ay\": -0.37929753794122634, \"ayref\": \"y\", \"showarrow\": true, \"x\": 0.8058303811737528, \"xref\": \"x\", \"y\": 0.35817217771476584, \"yref\": \"y\"}, {\"arrowhead\": 1, \"ax\": 0.46534781460472546, \"axref\": \"x\", \"ay\": -0.37929753794122634, \"ayref\": \"y\", \"showarrow\": true, \"x\": 0.01642014699298048, \"xref\": \"x\", \"y\": -0.9899568710745386, \"yref\": \"y\"}, {\"arrowhead\": 1, \"ax\": 0.21865262678884356, \"axref\": \"x\", \"ay\": 0.7434848450348441, \"ayref\": \"y\", \"showarrow\": true, \"x\": 0.23234931137553708, \"xref\": \"x\", \"y\": 0.6938351413848787, \"yref\": \"y\"}, {\"arrowhead\": 1, \"ax\": -0.006072680523206969, \"axref\": \"x\", \"ay\": -0.06458345618823585, \"ayref\": \"y\", \"showarrow\": true, \"x\": 0.5041228059807964, \"xref\": \"x\", \"y\": -0.7708695555206876, \"yref\": \"y\"}, {\"arrowhead\": 1, \"ax\": -0.006072680523206969, \"axref\": \"x\", \"ay\": -0.06458345618823585, \"ayref\": \"y\", \"showarrow\": true, \"x\": -0.8704301426827143, \"xref\": \"x\", \"y\": -0.5150292854508264, \"yref\": \"y\"}, {\"arrowhead\": 1, \"ax\": -0.006072680523206969, \"axref\": \"x\", \"ay\": -0.06458345618823585, \"ayref\": \"y\", \"showarrow\": true, \"x\": -0.36426608884461315, \"xref\": \"x\", \"y\": -0.8784584216724954, \"yref\": \"y\"}, {\"arrowhead\": 1, \"ax\": -0.006072680523206969, \"axref\": \"x\", \"ay\": -0.06458345618823585, \"ayref\": \"y\", \"showarrow\": true, \"x\": 0.8580547385341795, \"xref\": \"x\", \"y\": 0.19828226131279586, \"yref\": \"y\"}, {\"arrowhead\": 1, \"ax\": -0.006072680523206969, \"axref\": \"x\", \"ay\": -0.06458345618823585, \"ayref\": \"y\", \"showarrow\": true, \"x\": -0.39894945391689884, \"xref\": \"x\", \"y\": 0.6783649908404394, \"yref\": \"y\"}, {\"arrowhead\": 1, \"ax\": -0.006072680523206969, \"axref\": \"x\", \"ay\": -0.06458345618823585, \"ayref\": \"y\", \"showarrow\": true, \"x\": -0.6630020509839912, \"xref\": \"x\", \"y\": -0.6366154315103947, \"yref\": \"y\"}, {\"arrowhead\": 1, \"ax\": -0.006072680523206969, \"axref\": \"x\", \"ay\": -0.06458345618823585, \"ayref\": \"y\", \"showarrow\": true, \"x\": 0.9084613565898546, \"xref\": \"x\", \"y\": -0.1092621514547675, \"yref\": \"y\"}, {\"arrowhead\": 1, \"ax\": -0.006072680523206969, \"axref\": \"x\", \"ay\": -0.06458345618823585, \"ayref\": \"y\", \"showarrow\": true, \"x\": -0.7934835926542153, \"xref\": \"x\", \"y\": -0.448099151878658, \"yref\": \"y\"}, {\"arrowhead\": 1, \"ax\": -0.006072680523206969, \"axref\": \"x\", \"ay\": -0.06458345618823585, \"ayref\": \"y\", \"showarrow\": true, \"x\": 0.16779136822048496, \"xref\": \"x\", \"y\": -0.9692747931457181, \"yref\": \"y\"}, {\"arrowhead\": 1, \"ax\": -0.006072680523206969, \"axref\": \"x\", \"ay\": -0.06458345618823585, \"ayref\": \"y\", \"showarrow\": true, \"x\": 0.7953068495158196, \"xref\": \"x\", \"y\": -0.1033043965100671, \"yref\": \"y\"}, {\"arrowhead\": 1, \"ax\": -0.006072680523206969, \"axref\": \"x\", \"ay\": -0.06458345618823585, \"ayref\": \"y\", \"showarrow\": true, \"x\": 0.8116507394878497, \"xref\": \"x\", \"y\": 0.14113796053213706, \"yref\": \"y\"}, {\"arrowhead\": 1, \"ax\": -0.006072680523206969, \"axref\": \"x\", \"ay\": -0.06458345618823585, \"ayref\": \"y\", \"showarrow\": true, \"x\": -0.8707117835730392, \"xref\": \"x\", \"y\": 0.39774779157485324, \"yref\": \"y\"}, {\"arrowhead\": 1, \"ax\": -0.006072680523206969, \"axref\": \"x\", \"ay\": -0.06458345618823585, \"ayref\": \"y\", \"showarrow\": true, \"x\": 0.7086103692263311, \"xref\": \"x\", \"y\": 0.14506658442377268, \"yref\": \"y\"}, {\"arrowhead\": 1, \"ax\": -0.006072680523206969, \"axref\": \"x\", \"ay\": -0.06458345618823585, \"ayref\": \"y\", \"showarrow\": true, \"x\": -0.354696241659819, \"xref\": \"x\", \"y\": 0.8316429326013185, \"yref\": \"y\"}, {\"arrowhead\": 1, \"ax\": -0.006072680523206969, \"axref\": \"x\", \"ay\": -0.06458345618823585, \"ayref\": \"y\", \"showarrow\": true, \"x\": 0.6180755911340888, \"xref\": \"x\", \"y\": 0.6784698534588822, \"yref\": \"y\"}, {\"arrowhead\": 1, \"ax\": -0.006072680523206969, \"axref\": \"x\", \"ay\": -0.06458345618823585, \"ayref\": \"y\", \"showarrow\": true, \"x\": 0.7721992581860275, \"xref\": \"x\", \"y\": -0.5358383638345512, \"yref\": \"y\"}, {\"arrowhead\": 1, \"ax\": -0.006072680523206969, \"axref\": \"x\", \"ay\": -0.06458345618823585, \"ayref\": \"y\", \"showarrow\": true, \"x\": -0.8492898593023976, \"xref\": \"x\", \"y\": 0.265477227233885, \"yref\": \"y\"}, {\"arrowhead\": 1, \"ax\": -0.006072680523206969, \"axref\": \"x\", \"ay\": -0.06458345618823585, \"ayref\": \"y\", \"showarrow\": true, \"x\": -0.765559591583217, \"xref\": \"x\", \"y\": 0.40422554139585265, \"yref\": \"y\"}, {\"arrowhead\": 1, \"ax\": -0.11704744817556445, \"axref\": \"x\", \"ay\": -0.5622058062723145, \"ayref\": \"y\", \"showarrow\": true, \"x\": 0.33569708540281984, \"xref\": \"x\", \"y\": -0.8728134969262696, \"yref\": \"y\"}, {\"arrowhead\": 1, \"ax\": -0.11704744817556445, \"axref\": \"x\", \"ay\": -0.5622058062723145, \"ayref\": \"y\", \"showarrow\": true, \"x\": -0.9654143402208251, \"xref\": \"x\", \"y\": -0.028277790710627002, \"yref\": \"y\"}, {\"arrowhead\": 1, \"ax\": -0.11704744817556445, \"axref\": \"x\", \"ay\": -0.5622058062723145, \"ayref\": \"y\", \"showarrow\": true, \"x\": -0.5587156223111164, \"xref\": \"x\", \"y\": -0.8312359752805463, \"yref\": \"y\"}, {\"arrowhead\": 1, \"ax\": -0.11704744817556445, \"axref\": \"x\", \"ay\": -0.5622058062723145, \"ayref\": \"y\", \"showarrow\": true, \"x\": -0.09531782733252306, \"xref\": \"x\", \"y\": -0.9581281408246186, \"yref\": \"y\"}, {\"arrowhead\": 1, \"ax\": -0.11704744817556445, \"axref\": \"x\", \"ay\": -0.5622058062723145, \"ayref\": \"y\", \"showarrow\": true, \"x\": 0.833146137780658, \"xref\": \"x\", \"y\": -0.3838824842807192, \"yref\": \"y\"}, {\"arrowhead\": 1, \"ax\": -0.11704744817556445, \"axref\": \"x\", \"ay\": -0.5622058062723145, \"ayref\": \"y\", \"showarrow\": true, \"x\": 0.16779136822048496, \"xref\": \"x\", \"y\": -0.9692747931457181, \"yref\": \"y\"}, {\"arrowhead\": 1, \"ax\": -0.11704744817556445, \"axref\": \"x\", \"ay\": -0.5622058062723145, \"ayref\": \"y\", \"showarrow\": true, \"x\": -0.8980548660018308, \"xref\": \"x\", \"y\": -0.34953935780386236, \"yref\": \"y\"}, {\"arrowhead\": 1, \"ax\": -0.11704744817556445, \"axref\": \"x\", \"ay\": -0.5622058062723145, \"ayref\": \"y\", \"showarrow\": true, \"x\": 0.47306247249341726, \"xref\": \"x\", \"y\": -0.8821471807846605, \"yref\": \"y\"}, {\"arrowhead\": 1, \"ax\": 0.19244405609842516, \"axref\": \"x\", \"ay\": 0.6117564898368241, \"ayref\": \"y\", \"showarrow\": true, \"x\": 0.23234931137553708, \"xref\": \"x\", \"y\": 0.6938351413848787, \"yref\": \"y\"}, {\"arrowhead\": 1, \"ax\": -0.20360115139239374, \"axref\": \"x\", \"ay\": -0.968609697881051, \"ayref\": \"y\", \"showarrow\": true, \"x\": -0.17529343514176476, \"xref\": \"x\", \"y\": -1.0, \"yref\": \"y\"}, {\"arrowhead\": 1, \"ax\": -0.29925405567906604, \"axref\": \"x\", \"ay\": 0.22897914293141564, \"ayref\": \"y\", \"showarrow\": true, \"x\": 0.23234931137553708, \"xref\": \"x\", \"y\": 0.6938351413848787, \"yref\": \"y\"}, {\"arrowhead\": 1, \"ax\": -0.29925405567906604, \"axref\": \"x\", \"ay\": 0.22897914293141564, \"ayref\": \"y\", \"showarrow\": true, \"x\": -0.8314206126422409, \"xref\": \"x\", \"y\": -0.2339185246988914, \"yref\": \"y\"}, {\"arrowhead\": 1, \"ax\": -0.8699663654997422, \"axref\": \"x\", \"ay\": 0.053675486492529435, \"ayref\": \"y\", \"showarrow\": true, \"x\": -0.9012267463444592, \"xref\": \"x\", \"y\": -0.0684651163118811, \"yref\": \"y\"}, {\"arrowhead\": 1, \"ax\": -0.8699663654997422, \"axref\": \"x\", \"ay\": 0.053675486492529435, \"ayref\": \"y\", \"showarrow\": true, \"x\": -0.9095307614382201, \"xref\": \"x\", \"y\": 0.1736528691379811, \"yref\": \"y\"}, {\"arrowhead\": 1, \"ax\": 0.07360203918208597, \"axref\": \"x\", \"ay\": 0.1695447398039775, \"ayref\": \"y\", \"showarrow\": true, \"x\": 0.8643881476790111, \"xref\": \"x\", \"y\": -0.2530752955441437, \"yref\": \"y\"}, {\"arrowhead\": 1, \"ax\": 0.07360203918208597, \"axref\": \"x\", \"ay\": 0.1695447398039775, \"ayref\": \"y\", \"showarrow\": true, \"x\": -0.7180908398906984, \"xref\": \"x\", \"y\": 0.593235203388763, \"yref\": \"y\"}, {\"arrowhead\": 1, \"ax\": -0.4288682304792552, \"axref\": \"x\", \"ay\": 0.5708559571307242, \"ayref\": \"y\", \"showarrow\": true, \"x\": -0.5548611297276775, \"xref\": \"x\", \"y\": 0.7424964462170772, \"yref\": \"y\"}, {\"arrowhead\": 1, \"ax\": 0.34296566702944037, \"axref\": \"x\", \"ay\": 0.6752679290382514, \"ayref\": \"y\", \"showarrow\": true, \"x\": 0.3918794487376911, \"xref\": \"x\", \"y\": 0.7861969559543448, \"yref\": \"y\"}, {\"arrowhead\": 1, \"ax\": 0.6656809697297452, \"axref\": \"x\", \"ay\": -0.13851096000425064, \"ayref\": \"y\", \"showarrow\": true, \"x\": 0.7451324821818057, \"xref\": \"x\", \"y\": -0.681127294081969, \"yref\": \"y\"}, {\"arrowhead\": 1, \"ax\": 0.6656809697297452, \"axref\": \"x\", \"ay\": -0.13851096000425064, \"ayref\": \"y\", \"showarrow\": true, \"x\": 0.7140289080767251, \"xref\": \"x\", \"y\": 0.39914831438484794, \"yref\": \"y\"}, {\"arrowhead\": 1, \"ax\": 0.5793006319397204, \"axref\": \"x\", \"ay\": -0.5574536319714545, \"ayref\": \"y\", \"showarrow\": true, \"x\": 0.7451324821818057, \"xref\": \"x\", \"y\": -0.681127294081969, \"yref\": \"y\"}, {\"arrowhead\": 1, \"ax\": 0.027298328096277198, \"axref\": \"x\", \"ay\": -0.09813888756372306, \"ayref\": \"y\", \"showarrow\": true, \"x\": -0.646991375101442, \"xref\": \"x\", \"y\": 0.4186200125597326, \"yref\": \"y\"}, {\"arrowhead\": 1, \"ax\": 0.027298328096277198, \"axref\": \"x\", \"ay\": -0.09813888756372306, \"ayref\": \"y\", \"showarrow\": true, \"x\": -0.7594154409152845, \"xref\": \"x\", \"y\": -0.5897598559814754, \"yref\": \"y\"}, {\"arrowhead\": 1, \"ax\": 0.027298328096277198, \"axref\": \"x\", \"ay\": -0.09813888756372306, \"ayref\": \"y\", \"showarrow\": true, \"x\": 0.06408594045917335, \"xref\": \"x\", \"y\": -0.899305476583374, \"yref\": \"y\"}, {\"arrowhead\": 1, \"ax\": 0.027298328096277198, \"axref\": \"x\", \"ay\": -0.09813888756372306, \"ayref\": \"y\", \"showarrow\": true, \"x\": 0.9032807917233884, \"xref\": \"x\", \"y\": 0.03879067648295864, \"yref\": \"y\"}, {\"arrowhead\": 1, \"ax\": 0.027298328096277198, \"axref\": \"x\", \"ay\": -0.09813888756372306, \"ayref\": \"y\", \"showarrow\": true, \"x\": 0.6076611820801522, \"xref\": \"x\", \"y\": 0.5312231094760757, \"yref\": \"y\"}, {\"arrowhead\": 1, \"ax\": 0.16643672851672947, \"axref\": \"x\", \"ay\": 0.7006861806971271, \"ayref\": \"y\", \"showarrow\": true, \"x\": 0.23234931137553708, \"xref\": \"x\", \"y\": 0.6938351413848787, \"yref\": \"y\"}, {\"arrowhead\": 1, \"ax\": 0.13480408312989303, \"axref\": \"x\", \"ay\": -0.6262898222643748, \"ayref\": \"y\", \"showarrow\": true, \"x\": -0.45452969872239, \"xref\": \"x\", \"y\": -0.795499289234552, \"yref\": \"y\"}, {\"arrowhead\": 1, \"ax\": 0.13480408312989303, \"axref\": \"x\", \"ay\": -0.6262898222643748, \"ayref\": \"y\", \"showarrow\": true, \"x\": 0.29817659681081043, \"xref\": \"x\", \"y\": -0.9713714906271165, \"yref\": \"y\"}, {\"arrowhead\": 1, \"ax\": 0.13480408312989303, \"axref\": \"x\", \"ay\": -0.6262898222643748, \"ayref\": \"y\", \"showarrow\": true, \"x\": -0.6146514676691508, \"xref\": \"x\", \"y\": -0.7260504188479372, \"yref\": \"y\"}, {\"arrowhead\": 1, \"ax\": 0.13480408312989303, \"axref\": \"x\", \"ay\": -0.6262898222643748, \"ayref\": \"y\", \"showarrow\": true, \"x\": 0.7099705918214766, \"xref\": \"x\", \"y\": -0.41329385853720635, \"yref\": \"y\"}, {\"arrowhead\": 1, \"ax\": 0.13480408312989303, \"axref\": \"x\", \"ay\": -0.6262898222643748, \"ayref\": \"y\", \"showarrow\": true, \"x\": 0.833146137780658, \"xref\": \"x\", \"y\": -0.3838824842807192, \"yref\": \"y\"}, {\"arrowhead\": 1, \"ax\": 0.18729151048891526, \"axref\": \"x\", \"ay\": 0.6817969537251938, \"ayref\": \"y\", \"showarrow\": true, \"x\": 0.23234931137553708, \"xref\": \"x\", \"y\": 0.6938351413848787, \"yref\": \"y\"}, {\"arrowhead\": 1, \"ax\": -0.1711720414949809, \"axref\": \"x\", \"ay\": 0.6011517620802392, \"ayref\": \"y\", \"showarrow\": true, \"x\": -0.5720288070718031, \"xref\": \"x\", \"y\": 0.6075405608203778, \"yref\": \"y\"}, {\"arrowhead\": 1, \"ax\": -0.1711720414949809, \"axref\": \"x\", \"ay\": 0.6011517620802392, \"ayref\": \"y\", \"showarrow\": true, \"x\": 0.15014137036502553, \"xref\": \"x\", \"y\": 0.7953658714486561, \"yref\": \"y\"}, {\"arrowhead\": 1, \"ax\": 0.047538005018721664, \"axref\": \"x\", \"ay\": -0.2604277076739507, \"ayref\": \"y\", \"showarrow\": true, \"x\": 0.23234931137553708, \"xref\": \"x\", \"y\": 0.6938351413848787, \"yref\": \"y\"}, {\"arrowhead\": 1, \"ax\": 0.047538005018721664, \"axref\": \"x\", \"ay\": -0.2604277076739507, \"ayref\": \"y\", \"showarrow\": true, \"x\": -0.45452969872239, \"xref\": \"x\", \"y\": -0.795499289234552, \"yref\": \"y\"}, {\"arrowhead\": 1, \"ax\": 0.047538005018721664, \"axref\": \"x\", \"ay\": -0.2604277076739507, \"ayref\": \"y\", \"showarrow\": true, \"x\": 0.29817659681081043, \"xref\": \"x\", \"y\": -0.9713714906271165, \"yref\": \"y\"}, {\"arrowhead\": 1, \"ax\": 0.26956941716198446, \"axref\": \"x\", \"ay\": 0.7417420253633744, \"ayref\": \"y\", \"showarrow\": true, \"x\": 0.23234931137553708, \"xref\": \"x\", \"y\": 0.6938351413848787, \"yref\": \"y\"}, {\"arrowhead\": 1, \"ax\": 0.25383664197440736, \"axref\": \"x\", \"ay\": 0.6632364059055098, \"ayref\": \"y\", \"showarrow\": true, \"x\": -0.2674308806002515, \"xref\": \"x\", \"y\": 0.7816789451214715, \"yref\": \"y\"}, {\"arrowhead\": 1, \"ax\": 0.25383664197440736, \"axref\": \"x\", \"ay\": 0.6632364059055098, \"ayref\": \"y\", \"showarrow\": true, \"x\": 0.23234931137553708, \"xref\": \"x\", \"y\": 0.6938351413848787, \"yref\": \"y\"}, {\"arrowhead\": 1, \"ax\": 0.25383664197440736, \"axref\": \"x\", \"ay\": 0.6632364059055098, \"ayref\": \"y\", \"showarrow\": true, \"x\": 0.7731325063138892, \"xref\": \"x\", \"y\": 0.5438965109253378, \"yref\": \"y\"}, {\"arrowhead\": 1, \"ax\": -0.3490816533612065, \"axref\": \"x\", \"ay\": 0.24669769491898844, \"ayref\": \"y\", \"showarrow\": true, \"x\": 0.23234931137553708, \"xref\": \"x\", \"y\": 0.6938351413848787, \"yref\": \"y\"}, {\"arrowhead\": 1, \"ax\": -0.3490816533612065, \"axref\": \"x\", \"ay\": 0.24669769491898844, \"ayref\": \"y\", \"showarrow\": true, \"x\": -0.9295991702200337, \"xref\": \"x\", \"y\": -0.19942100246428496, \"yref\": \"y\"}, {\"arrowhead\": 1, \"ax\": -0.7094254731220936, \"axref\": \"x\", \"ay\": -0.28482296016090647, \"ayref\": \"y\", \"showarrow\": true, \"x\": -0.8980548660018308, \"xref\": \"x\", \"y\": -0.34953935780386236, \"yref\": \"y\"}, {\"arrowhead\": 1, \"ax\": -0.10291751215583864, \"axref\": \"x\", \"ay\": 0.687016632056548, \"ayref\": \"y\", \"showarrow\": true, \"x\": -0.12516103308953608, \"xref\": \"x\", \"y\": 0.7950572513493244, \"yref\": \"y\"}, {\"arrowhead\": 1, \"ax\": 0.18363834548031296, \"axref\": \"x\", \"ay\": 0.5853870178953733, \"ayref\": \"y\", \"showarrow\": true, \"x\": 0.23234931137553708, \"xref\": \"x\", \"y\": 0.6938351413848787, \"yref\": \"y\"}, {\"arrowhead\": 1, \"ax\": 0.2508616324938077, \"axref\": \"x\", \"ay\": 0.6141070260871877, \"ayref\": \"y\", \"showarrow\": true, \"x\": 0.23234931137553708, \"xref\": \"x\", \"y\": 0.6938351413848787, \"yref\": \"y\"}, {\"arrowhead\": 1, \"ax\": 0.19130597075109687, \"axref\": \"x\", \"ay\": 0.5539713740056836, \"ayref\": \"y\", \"showarrow\": true, \"x\": 0.23234931137553708, \"xref\": \"x\", \"y\": 0.6938351413848787, \"yref\": \"y\"}, {\"arrowhead\": 1, \"ax\": 0.2216815592608232, \"axref\": \"x\", \"ay\": 0.6376583558061687, \"ayref\": \"y\", \"showarrow\": true, \"x\": 0.23234931137553708, \"xref\": \"x\", \"y\": 0.6938351413848787, \"yref\": \"y\"}], \"hovermode\": \"closest\", \"margin\": {\"b\": 20, \"l\": 5, \"r\": 5, \"t\": 40}, \"showlegend\": false, \"template\": {\"data\": {\"bar\": [{\"error_x\": {\"color\": \"#2a3f5f\"}, \"error_y\": {\"color\": \"#2a3f5f\"}, \"marker\": {\"line\": {\"color\": \"#E5ECF6\", \"width\": 0.5}}, \"type\": \"bar\"}], \"barpolar\": [{\"marker\": {\"line\": {\"color\": \"#E5ECF6\", \"width\": 0.5}}, \"type\": \"barpolar\"}], \"carpet\": [{\"aaxis\": {\"endlinecolor\": \"#2a3f5f\", \"gridcolor\": \"white\", \"linecolor\": \"white\", \"minorgridcolor\": \"white\", \"startlinecolor\": \"#2a3f5f\"}, \"baxis\": {\"endlinecolor\": \"#2a3f5f\", \"gridcolor\": \"white\", \"linecolor\": \"white\", \"minorgridcolor\": \"white\", \"startlinecolor\": \"#2a3f5f\"}, \"type\": \"carpet\"}], \"choropleth\": [{\"colorbar\": {\"outlinewidth\": 0, \"ticks\": \"\"}, \"type\": \"choropleth\"}], \"contour\": [{\"colorbar\": {\"outlinewidth\": 0, \"ticks\": \"\"}, \"colorscale\": [[0.0, \"#0d0887\"], [0.1111111111111111, \"#46039f\"], [0.2222222222222222, \"#7201a8\"], [0.3333333333333333, \"#9c179e\"], [0.4444444444444444, \"#bd3786\"], [0.5555555555555556, \"#d8576b\"], [0.6666666666666666, \"#ed7953\"], [0.7777777777777778, \"#fb9f3a\"], [0.8888888888888888, \"#fdca26\"], [1.0, \"#f0f921\"]], \"type\": \"contour\"}], \"contourcarpet\": [{\"colorbar\": {\"outlinewidth\": 0, \"ticks\": \"\"}, \"type\": \"contourcarpet\"}], \"heatmap\": [{\"colorbar\": {\"outlinewidth\": 0, \"ticks\": \"\"}, \"colorscale\": [[0.0, \"#0d0887\"], [0.1111111111111111, \"#46039f\"], [0.2222222222222222, \"#7201a8\"], [0.3333333333333333, \"#9c179e\"], [0.4444444444444444, \"#bd3786\"], [0.5555555555555556, \"#d8576b\"], [0.6666666666666666, \"#ed7953\"], [0.7777777777777778, \"#fb9f3a\"], [0.8888888888888888, \"#fdca26\"], [1.0, \"#f0f921\"]], \"type\": \"heatmap\"}], \"heatmapgl\": [{\"colorbar\": {\"outlinewidth\": 0, \"ticks\": \"\"}, \"colorscale\": [[0.0, \"#0d0887\"], [0.1111111111111111, \"#46039f\"], [0.2222222222222222, \"#7201a8\"], [0.3333333333333333, \"#9c179e\"], [0.4444444444444444, \"#bd3786\"], [0.5555555555555556, \"#d8576b\"], [0.6666666666666666, \"#ed7953\"], [0.7777777777777778, \"#fb9f3a\"], [0.8888888888888888, \"#fdca26\"], [1.0, \"#f0f921\"]], \"type\": \"heatmapgl\"}], \"histogram\": [{\"marker\": {\"colorbar\": {\"outlinewidth\": 0, \"ticks\": \"\"}}, \"type\": \"histogram\"}], \"histogram2d\": [{\"colorbar\": {\"outlinewidth\": 0, \"ticks\": \"\"}, \"colorscale\": [[0.0, \"#0d0887\"], [0.1111111111111111, \"#46039f\"], [0.2222222222222222, \"#7201a8\"], [0.3333333333333333, \"#9c179e\"], [0.4444444444444444, \"#bd3786\"], [0.5555555555555556, \"#d8576b\"], [0.6666666666666666, \"#ed7953\"], [0.7777777777777778, \"#fb9f3a\"], [0.8888888888888888, \"#fdca26\"], [1.0, \"#f0f921\"]], \"type\": \"histogram2d\"}], \"histogram2dcontour\": [{\"colorbar\": {\"outlinewidth\": 0, \"ticks\": \"\"}, \"colorscale\": [[0.0, \"#0d0887\"], [0.1111111111111111, \"#46039f\"], [0.2222222222222222, \"#7201a8\"], [0.3333333333333333, \"#9c179e\"], [0.4444444444444444, \"#bd3786\"], [0.5555555555555556, \"#d8576b\"], [0.6666666666666666, \"#ed7953\"], [0.7777777777777778, \"#fb9f3a\"], [0.8888888888888888, \"#fdca26\"], [1.0, \"#f0f921\"]], \"type\": \"histogram2dcontour\"}], \"mesh3d\": [{\"colorbar\": {\"outlinewidth\": 0, \"ticks\": \"\"}, \"type\": \"mesh3d\"}], \"parcoords\": [{\"line\": {\"colorbar\": {\"outlinewidth\": 0, \"ticks\": \"\"}}, \"type\": \"parcoords\"}], \"pie\": [{\"automargin\": true, \"type\": \"pie\"}], \"scatter\": [{\"marker\": {\"colorbar\": {\"outlinewidth\": 0, \"ticks\": \"\"}}, \"type\": \"scatter\"}], \"scatter3d\": [{\"line\": {\"colorbar\": {\"outlinewidth\": 0, \"ticks\": \"\"}}, \"marker\": {\"colorbar\": {\"outlinewidth\": 0, \"ticks\": \"\"}}, \"type\": \"scatter3d\"}], \"scattercarpet\": [{\"marker\": {\"colorbar\": {\"outlinewidth\": 0, \"ticks\": \"\"}}, \"type\": \"scattercarpet\"}], \"scattergeo\": [{\"marker\": {\"colorbar\": {\"outlinewidth\": 0, \"ticks\": \"\"}}, \"type\": \"scattergeo\"}], \"scattergl\": [{\"marker\": {\"colorbar\": {\"outlinewidth\": 0, \"ticks\": \"\"}}, \"type\": \"scattergl\"}], \"scattermapbox\": [{\"marker\": {\"colorbar\": {\"outlinewidth\": 0, \"ticks\": \"\"}}, \"type\": \"scattermapbox\"}], \"scatterpolar\": [{\"marker\": {\"colorbar\": {\"outlinewidth\": 0, \"ticks\": \"\"}}, \"type\": \"scatterpolar\"}], \"scatterpolargl\": [{\"marker\": {\"colorbar\": {\"outlinewidth\": 0, \"ticks\": \"\"}}, \"type\": \"scatterpolargl\"}], \"scatterternary\": [{\"marker\": {\"colorbar\": {\"outlinewidth\": 0, \"ticks\": \"\"}}, \"type\": \"scatterternary\"}], \"surface\": [{\"colorbar\": {\"outlinewidth\": 0, \"ticks\": \"\"}, \"colorscale\": [[0.0, \"#0d0887\"], [0.1111111111111111, \"#46039f\"], [0.2222222222222222, \"#7201a8\"], [0.3333333333333333, \"#9c179e\"], [0.4444444444444444, \"#bd3786\"], [0.5555555555555556, \"#d8576b\"], [0.6666666666666666, \"#ed7953\"], [0.7777777777777778, \"#fb9f3a\"], [0.8888888888888888, \"#fdca26\"], [1.0, \"#f0f921\"]], \"type\": \"surface\"}], \"table\": [{\"cells\": {\"fill\": {\"color\": \"#EBF0F8\"}, \"line\": {\"color\": \"white\"}}, \"header\": {\"fill\": {\"color\": \"#C8D4E3\"}, \"line\": {\"color\": \"white\"}}, \"type\": \"table\"}]}, \"layout\": {\"annotationdefaults\": {\"arrowcolor\": \"#2a3f5f\", \"arrowhead\": 0, \"arrowwidth\": 1}, \"coloraxis\": {\"colorbar\": {\"outlinewidth\": 0, \"ticks\": \"\"}}, \"colorscale\": {\"diverging\": [[0, \"#8e0152\"], [0.1, \"#c51b7d\"], [0.2, \"#de77ae\"], [0.3, \"#f1b6da\"], [0.4, \"#fde0ef\"], [0.5, \"#f7f7f7\"], [0.6, \"#e6f5d0\"], [0.7, \"#b8e186\"], [0.8, \"#7fbc41\"], [0.9, \"#4d9221\"], [1, \"#276419\"]], \"sequential\": [[0.0, \"#0d0887\"], [0.1111111111111111, \"#46039f\"], [0.2222222222222222, \"#7201a8\"], [0.3333333333333333, \"#9c179e\"], [0.4444444444444444, \"#bd3786\"], [0.5555555555555556, \"#d8576b\"], [0.6666666666666666, \"#ed7953\"], [0.7777777777777778, \"#fb9f3a\"], [0.8888888888888888, \"#fdca26\"], [1.0, \"#f0f921\"]], \"sequentialminus\": [[0.0, \"#0d0887\"], [0.1111111111111111, \"#46039f\"], [0.2222222222222222, \"#7201a8\"], [0.3333333333333333, \"#9c179e\"], [0.4444444444444444, \"#bd3786\"], [0.5555555555555556, \"#d8576b\"], [0.6666666666666666, \"#ed7953\"], [0.7777777777777778, \"#fb9f3a\"], [0.8888888888888888, \"#fdca26\"], [1.0, \"#f0f921\"]]}, \"colorway\": [\"#636efa\", \"#EF553B\", \"#00cc96\", \"#ab63fa\", \"#FFA15A\", \"#19d3f3\", \"#FF6692\", \"#B6E880\", \"#FF97FF\", \"#FECB52\"], \"font\": {\"color\": \"#2a3f5f\"}, \"geo\": {\"bgcolor\": \"white\", \"lakecolor\": \"white\", \"landcolor\": \"#E5ECF6\", \"showlakes\": true, \"showland\": true, \"subunitcolor\": \"white\"}, \"hoverlabel\": {\"align\": \"left\"}, \"hovermode\": \"closest\", \"mapbox\": {\"style\": \"light\"}, \"paper_bgcolor\": \"white\", \"plot_bgcolor\": \"#E5ECF6\", \"polar\": {\"angularaxis\": {\"gridcolor\": \"white\", \"linecolor\": \"white\", \"ticks\": \"\"}, \"bgcolor\": \"#E5ECF6\", \"radialaxis\": {\"gridcolor\": \"white\", \"linecolor\": \"white\", \"ticks\": \"\"}}, \"scene\": {\"xaxis\": {\"backgroundcolor\": \"#E5ECF6\", \"gridcolor\": \"white\", \"gridwidth\": 2, \"linecolor\": \"white\", \"showbackground\": true, \"ticks\": \"\", \"zerolinecolor\": \"white\"}, \"yaxis\": {\"backgroundcolor\": \"#E5ECF6\", \"gridcolor\": \"white\", \"gridwidth\": 2, \"linecolor\": \"white\", \"showbackground\": true, \"ticks\": \"\", \"zerolinecolor\": \"white\"}, \"zaxis\": {\"backgroundcolor\": \"#E5ECF6\", \"gridcolor\": \"white\", \"gridwidth\": 2, \"linecolor\": \"white\", \"showbackground\": true, \"ticks\": \"\", \"zerolinecolor\": \"white\"}}, \"shapedefaults\": {\"line\": {\"color\": \"#2a3f5f\"}}, \"ternary\": {\"aaxis\": {\"gridcolor\": \"white\", \"linecolor\": \"white\", \"ticks\": \"\"}, \"baxis\": {\"gridcolor\": \"white\", \"linecolor\": \"white\", \"ticks\": \"\"}, \"bgcolor\": \"#E5ECF6\", \"caxis\": {\"gridcolor\": \"white\", \"linecolor\": \"white\", \"ticks\": \"\"}}, \"title\": {\"x\": 0.05}, \"xaxis\": {\"automargin\": true, \"gridcolor\": \"white\", \"linecolor\": \"white\", \"ticks\": \"\", \"title\": {\"standoff\": 15}, \"zerolinecolor\": \"white\", \"zerolinewidth\": 2}, \"yaxis\": {\"automargin\": true, \"gridcolor\": \"white\", \"linecolor\": \"white\", \"ticks\": \"\", \"title\": {\"standoff\": 15}, \"zerolinecolor\": \"white\", \"zerolinewidth\": 2}}}, \"title\": {\"font\": {\"size\": 16}, \"text\": \"Graph\"}, \"xaxis\": {\"showgrid\": false, \"showticklabels\": false, \"zeroline\": false}, \"yaxis\": {\"showgrid\": false, \"showticklabels\": false, \"zeroline\": false}},\n",
       "                        {\"responsive\": true}\n",
       "                    ).then(function(){\n",
       "                            \n",
       "var gd = document.getElementById('40321f26-7b8b-4c44-bfd9-877267f827e0');\n",
       "var x = new MutationObserver(function (mutations, observer) {{\n",
       "        var display = window.getComputedStyle(gd).display;\n",
       "        if (!display || display === 'none') {{\n",
       "            console.log([gd, 'removed!']);\n",
       "            Plotly.purge(gd);\n",
       "            observer.disconnect();\n",
       "        }}\n",
       "}});\n",
       "\n",
       "// Listen for the removal of the full notebook cells\n",
       "var notebookContainer = gd.closest('#notebook-container');\n",
       "if (notebookContainer) {{\n",
       "    x.observe(notebookContainer, {childList: true});\n",
       "}}\n",
       "\n",
       "// Listen for the clearing of the current output cell\n",
       "var outputEl = gd.closest('.output');\n",
       "if (outputEl) {{\n",
       "    x.observe(outputEl, {childList: true});\n",
       "}}\n",
       "\n",
       "                        })\n",
       "                };\n",
       "                });\n",
       "            </script>\n",
       "        </div>"
      ]
     },
     "metadata": {},
     "output_type": "display_data"
    }
   ],
   "source": [
    "size = []\n",
    "for node in G.nodes():\n",
    "    size.append(G.degree(node) * 10)\n",
    "\n",
    "ig.plot(\n",
    "    G,\n",
    "    size_method=size,\n",
    "    layout=\"spring\",\n",
    "    colorscale=\"Bluered\"\n",
    ")"
   ]
  },
  {
   "cell_type": "code",
   "execution_count": null,
   "metadata": {},
   "outputs": [],
   "source": []
  }
 ],
 "metadata": {
  "kernelspec": {
   "display_name": "Python 3",
   "language": "python",
   "name": "python3"
  },
  "language_info": {
   "codemirror_mode": {
    "name": "ipython",
    "version": 3
   },
   "file_extension": ".py",
   "mimetype": "text/x-python",
   "name": "python",
   "nbconvert_exporter": "python",
   "pygments_lexer": "ipython3",
   "version": "3.6.9"
  }
 },
 "nbformat": 4,
 "nbformat_minor": 4
}
