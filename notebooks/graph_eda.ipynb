{
 "cells": [
  {
   "cell_type": "code",
   "execution_count": null,
   "metadata": {},
   "outputs": [],
   "source": [
    "import pandas as pd\n",
    "import igviz as ig\n",
    "import networkx as nx"
   ]
  },
  {
   "cell_type": "code",
   "execution_count": null,
   "metadata": {},
   "outputs": [],
   "source": [
    "G = nx.from_pandas_edgelist(df,source='parent_process',\n",
    "                                   target='process',edge_attr=True,\n",
    "                                   create_using=nx.DiGraph())"
   ]
  },
  {
   "cell_type": "code",
   "execution_count": null,
   "metadata": {},
   "outputs": [],
   "source": [
    "size = []\n",
    "for node in G.nodes():\n",
    "    size.append(G.degree(node) * 10)\n",
    "\n",
    "ig.plot(\n",
    "    G,\n",
    "    size_method=size,\n",
    "    layout=\"spring\",\n",
    "    colorscale=\"Bluered\"\n",
    ")"
   ]
  },
  {
   "cell_type": "code",
   "execution_count": null,
   "metadata": {},
   "outputs": [],
   "source": [
    "analyzed_data = df.groupby(['parentimage', 'image']).count().reset_index().sort_values('user', ascending=True)\n",
    "analyzed_data['relationship'] = analyzed_data['parentimage'] + ' -> ' + analyzed_data['image']"
   ]
  },
  {
   "cell_type": "code",
   "execution_count": null,
   "metadata": {},
   "outputs": [],
   "source": [
    "pc_df = analyzed_data[['relationship', 'user']].rename({'user': 'count'}, axis=1)\n",
    "pc_df"
   ]
  },
  {
   "cell_type": "code",
   "execution_count": null,
   "metadata": {},
   "outputs": [],
   "source": [
    "pc_analysis = at.Analysis(pc_df)"
   ]
  },
  {
   "cell_type": "code",
   "execution_count": null,
   "metadata": {},
   "outputs": [],
   "source": [
    "pc_analysis.barplot(x='relationship', y='count', color='count', orient='h', height=800)"
   ]
  },
  {
   "cell_type": "code",
   "execution_count": null,
   "metadata": {},
   "outputs": [],
   "source": [
    "analyzed_data = df.groupby(['parentimage', 'image']).mean().reset_index()\n",
    "analyzed_data['relationship'] = analyzed_data['parentimage'] + ' -> ' + analyzed_data['image']\n",
    "analyzed_data = analyzed_data[([\"image\", \"parentimage\"] + list(entropy_cols) + list(length_cols))]\n",
    "analyzed_data"
   ]
  },
  {
   "cell_type": "code",
   "execution_count": null,
   "metadata": {},
   "outputs": [],
   "source": [
    "pc_analysis = at.Analysis(analyzed_data)\n",
    "pc_analysis.histogram()"
   ]
  },
  {
   "cell_type": "code",
   "execution_count": null,
   "metadata": {},
   "outputs": [],
   "source": []
  }
 ],
 "metadata": {
  "language_info": {
   "codemirror_mode": {
    "name": "ipython",
    "version": 3
   },
   "file_extension": ".py",
   "mimetype": "text/x-python",
   "name": "python",
   "nbconvert_exporter": "python",
   "pygments_lexer": "ipython3",
   "version": 3
  },
  "orig_nbformat": 2
 },
 "nbformat": 4,
 "nbformat_minor": 2
}